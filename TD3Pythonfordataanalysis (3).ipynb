{
  "nbformat": 4,
  "nbformat_minor": 0,
  "metadata": {
    "colab": {
      "name": "TD3Pythonfordataanalysis.ipynb",
      "provenance": []
    },
    "kernelspec": {
      "name": "python3",
      "display_name": "Python 3"
    }
  },
  "cells": [
    {
      "cell_type": "code",
      "metadata": {
        "id": "mcBRNZRyoSxI"
      },
      "source": [
        "import random \n",
        "n=10"
      ],
      "execution_count": null,
      "outputs": []
    },
    {
      "cell_type": "code",
      "metadata": {
        "id": "5X1WWboPoWCE"
      },
      "source": [
        "une_chaine_de_caractère=\"dfjnlkwlknfdsdjkfdkMZPmfeokmds\"\n",
        "liste=[]\n",
        "for _ in range(n):\n",
        "  caractere=random.choice(une_chaine_de_caractère)\n",
        "  liste.append(caractere)"
      ],
      "execution_count": null,
      "outputs": []
    },
    {
      "cell_type": "code",
      "metadata": {
        "id": "UvnntTVWoxQt",
        "outputId": "a06fe62c-37c0-4a54-e32a-cbbd2daf47a5",
        "colab": {
          "base_uri": "https://localhost:8080/",
          "height": 34
        }
      },
      "source": [
        "liste"
      ],
      "execution_count": null,
      "outputs": [
        {
          "output_type": "execute_result",
          "data": {
            "text/plain": [
              "['M', 'M', 'n', 'k', 'l', 's', 'k', 'n', 'k', 'k']"
            ]
          },
          "metadata": {
            "tags": []
          },
          "execution_count": 7
        }
      ]
    },
    {
      "cell_type": "code",
      "metadata": {
        "id": "6VWtq4Mdox9k",
        "outputId": "63f6ca5d-1746-49b0-cf64-b2c49f0766c2",
        "colab": {
          "base_uri": "https://localhost:8080/",
          "height": 34
        }
      },
      "source": [
        "liste2=[random.choice(une_chaine_de_caractère) for _ in range(n)]\n",
        "liste2"
      ],
      "execution_count": null,
      "outputs": [
        {
          "output_type": "execute_result",
          "data": {
            "text/plain": [
              "['m', 'j', 'f', 'P', 'n', 'n', 'm', 'k', 'k', 'k']"
            ]
          },
          "metadata": {
            "tags": []
          },
          "execution_count": 8
        }
      ]
    },
    {
      "cell_type": "code",
      "metadata": {
        "id": "0ElQ1WacpI48",
        "outputId": "a3e284c3-d1df-4503-9ee7-bf13d73062d4",
        "colab": {
          "base_uri": "https://localhost:8080/",
          "height": 34
        }
      },
      "source": [
        "# conditions f(x) for x in sequence if condition\n",
        "liste3=[_ for _ in range(n) if _%2==0]\n",
        "liste3"
      ],
      "execution_count": null,
      "outputs": [
        {
          "output_type": "execute_result",
          "data": {
            "text/plain": [
              "[0, 2, 4, 6, 8]"
            ]
          },
          "metadata": {
            "tags": []
          },
          "execution_count": 9
        }
      ]
    },
    {
      "cell_type": "code",
      "metadata": {
        "id": "gs10Ujxbpy6H",
        "outputId": "7c33ce5e-25b4-496b-b3f3-4f999c5be22b",
        "colab": {
          "base_uri": "https://localhost:8080/",
          "height": 34
        }
      },
      "source": [
        "#if else=> le if est au milieu\n",
        "liste3=[_ if _%2==0 else \"impair\" for  _ in range(n)]\n",
        "liste3"
      ],
      "execution_count": null,
      "outputs": [
        {
          "output_type": "execute_result",
          "data": {
            "text/plain": [
              "[0, 'impair', 2, 'impair', 4, 'impair', 6, 'impair', 8, 'impair']"
            ]
          },
          "metadata": {
            "tags": []
          },
          "execution_count": 11
        }
      ]
    },
    {
      "cell_type": "code",
      "metadata": {
        "id": "TbGOHipFqFba"
      },
      "source": [
        "# equivaut a\n",
        "liste3=[]\n",
        "def pairouimpair"
      ],
      "execution_count": null,
      "outputs": []
    },
    {
      "cell_type": "code",
      "metadata": {
        "id": "pZmEdtEgqbq8",
        "outputId": "47a73c2e-78dc-469d-c44e-903b05be240f",
        "colab": {
          "base_uri": "https://localhost:8080/",
          "height": 34
        }
      },
      "source": [
        "liste2=[_ if _%2!=0 else 'pair' for _ in range(n)]\n",
        "liste2"
      ],
      "execution_count": null,
      "outputs": [
        {
          "output_type": "execute_result",
          "data": {
            "text/plain": [
              "['pair', 1, 'pair', 3, 'pair', 5, 'pair', 7, 'pair', 9]"
            ]
          },
          "metadata": {
            "tags": []
          },
          "execution_count": 13
        }
      ]
    },
    {
      "cell_type": "code",
      "metadata": {
        "id": "wBJKRvwKquSK"
      },
      "source": [
        "#lambda fonction\n",
        "valeur=lambda param: param\n",
        "#valeur=lambda x:f(x)"
      ],
      "execution_count": null,
      "outputs": []
    },
    {
      "cell_type": "code",
      "metadata": {
        "id": "vOVU0CkSq2At",
        "outputId": "37875f12-e229-4ac7-e4fb-6e85714fb853",
        "colab": {
          "base_uri": "https://localhost:8080/",
          "height": 35
        }
      },
      "source": [
        "valeur(\"e\")"
      ],
      "execution_count": null,
      "outputs": [
        {
          "output_type": "execute_result",
          "data": {
            "application/vnd.google.colaboratory.intrinsic+json": {
              "type": "string"
            },
            "text/plain": [
              "'e'"
            ]
          },
          "metadata": {
            "tags": []
          },
          "execution_count": 15
        }
      ]
    },
    {
      "cell_type": "code",
      "metadata": {
        "id": "ATiik6Miq8Dp",
        "outputId": "d7125634-c535-464f-decd-1e56593c5709",
        "colab": {
          "base_uri": "https://localhost:8080/",
          "height": 35
        }
      },
      "source": [
        "deux_fois= lambda param:param*2\n",
        "deux_fois(\"E\")"
      ],
      "execution_count": null,
      "outputs": [
        {
          "output_type": "execute_result",
          "data": {
            "application/vnd.google.colaboratory.intrinsic+json": {
              "type": "string"
            },
            "text/plain": [
              "'EE'"
            ]
          },
          "metadata": {
            "tags": []
          },
          "execution_count": 17
        }
      ]
    },
    {
      "cell_type": "code",
      "metadata": {
        "id": "7MHhpQn9rDpX",
        "outputId": "f2f1bd8b-edc6-4f54-8c68-35441013698e",
        "colab": {
          "base_uri": "https://localhost:8080/",
          "height": 34
        }
      },
      "source": [
        "liste3=[\"e\"]*10\n",
        "liste3"
      ],
      "execution_count": null,
      "outputs": [
        {
          "output_type": "execute_result",
          "data": {
            "text/plain": [
              "['e', 'e', 'e', 'e', 'e', 'e', 'e', 'e', 'e', 'e']"
            ]
          },
          "metadata": {
            "tags": []
          },
          "execution_count": 18
        }
      ]
    },
    {
      "cell_type": "code",
      "metadata": {
        "id": "ziBbWtGqrMgp",
        "outputId": "fc11ea26-f69f-45ac-920b-0389f3c6d2f7",
        "colab": {
          "base_uri": "https://localhost:8080/",
          "height": 34
        }
      },
      "source": [
        "deux_fois([\"e\"])\n",
        "#si le param est un liste renvoie une liste"
      ],
      "execution_count": null,
      "outputs": [
        {
          "output_type": "execute_result",
          "data": {
            "text/plain": [
              "['e', 'e']"
            ]
          },
          "metadata": {
            "tags": []
          },
          "execution_count": 20
        }
      ]
    },
    {
      "cell_type": "code",
      "metadata": {
        "id": "2dJNOltIrS2K",
        "outputId": "0f7a7e5c-a7d1-4b92-feee-7e0719b098be",
        "colab": {
          "base_uri": "https://localhost:8080/",
          "height": 34
        }
      },
      "source": [
        "#lambda sans parametre\n",
        "zero_dixhuit=[deux_fois(_) for _ in range(10)]\n",
        "zero_dixhuit"
      ],
      "execution_count": null,
      "outputs": [
        {
          "output_type": "execute_result",
          "data": {
            "text/plain": [
              "[0, 2, 4, 6, 8, 10, 12, 14, 16, 18]"
            ]
          },
          "metadata": {
            "tags": []
          },
          "execution_count": 21
        }
      ]
    },
    {
      "cell_type": "code",
      "metadata": {
        "id": "yTvj81Surk2T",
        "outputId": "45b35394-776a-434b-8588-e3e638efce1b",
        "colab": {
          "base_uri": "https://localhost:8080/",
          "height": 1000
        }
      },
      "source": [
        "#Lets create a random dataframe\n",
        "import random \n",
        "import pandas as pd\n",
        "eleves=[\"will\",\"charles\",\"moha\",\"Anis\",\"camille\",\"nora\"]\n",
        "liste_eleves=[random.choice(eleves) for _ in range(60)]\n",
        "def note():\n",
        "  return (random.randint(1,20))\n",
        "notes=[note() for _ in range(60)]\n",
        "eleves_notes=pd.DataFrame()\n",
        "eleves_notes['eleves']=liste_eleves\n",
        "eleves_notes['note']=notes\n",
        "eleves_notes"
      ],
      "execution_count": 13,
      "outputs": [
        {
          "output_type": "execute_result",
          "data": {
            "text/html": [
              "<div>\n",
              "<style scoped>\n",
              "    .dataframe tbody tr th:only-of-type {\n",
              "        vertical-align: middle;\n",
              "    }\n",
              "\n",
              "    .dataframe tbody tr th {\n",
              "        vertical-align: top;\n",
              "    }\n",
              "\n",
              "    .dataframe thead th {\n",
              "        text-align: right;\n",
              "    }\n",
              "</style>\n",
              "<table border=\"1\" class=\"dataframe\">\n",
              "  <thead>\n",
              "    <tr style=\"text-align: right;\">\n",
              "      <th></th>\n",
              "      <th>eleves</th>\n",
              "      <th>note</th>\n",
              "    </tr>\n",
              "  </thead>\n",
              "  <tbody>\n",
              "    <tr>\n",
              "      <th>0</th>\n",
              "      <td>charles</td>\n",
              "      <td>3</td>\n",
              "    </tr>\n",
              "    <tr>\n",
              "      <th>1</th>\n",
              "      <td>charles</td>\n",
              "      <td>12</td>\n",
              "    </tr>\n",
              "    <tr>\n",
              "      <th>2</th>\n",
              "      <td>charles</td>\n",
              "      <td>18</td>\n",
              "    </tr>\n",
              "    <tr>\n",
              "      <th>3</th>\n",
              "      <td>will</td>\n",
              "      <td>8</td>\n",
              "    </tr>\n",
              "    <tr>\n",
              "      <th>4</th>\n",
              "      <td>Anis</td>\n",
              "      <td>1</td>\n",
              "    </tr>\n",
              "    <tr>\n",
              "      <th>5</th>\n",
              "      <td>will</td>\n",
              "      <td>4</td>\n",
              "    </tr>\n",
              "    <tr>\n",
              "      <th>6</th>\n",
              "      <td>camille</td>\n",
              "      <td>8</td>\n",
              "    </tr>\n",
              "    <tr>\n",
              "      <th>7</th>\n",
              "      <td>charles</td>\n",
              "      <td>14</td>\n",
              "    </tr>\n",
              "    <tr>\n",
              "      <th>8</th>\n",
              "      <td>moha</td>\n",
              "      <td>16</td>\n",
              "    </tr>\n",
              "    <tr>\n",
              "      <th>9</th>\n",
              "      <td>camille</td>\n",
              "      <td>11</td>\n",
              "    </tr>\n",
              "    <tr>\n",
              "      <th>10</th>\n",
              "      <td>Anis</td>\n",
              "      <td>8</td>\n",
              "    </tr>\n",
              "    <tr>\n",
              "      <th>11</th>\n",
              "      <td>charles</td>\n",
              "      <td>8</td>\n",
              "    </tr>\n",
              "    <tr>\n",
              "      <th>12</th>\n",
              "      <td>will</td>\n",
              "      <td>6</td>\n",
              "    </tr>\n",
              "    <tr>\n",
              "      <th>13</th>\n",
              "      <td>charles</td>\n",
              "      <td>4</td>\n",
              "    </tr>\n",
              "    <tr>\n",
              "      <th>14</th>\n",
              "      <td>camille</td>\n",
              "      <td>4</td>\n",
              "    </tr>\n",
              "    <tr>\n",
              "      <th>15</th>\n",
              "      <td>camille</td>\n",
              "      <td>13</td>\n",
              "    </tr>\n",
              "    <tr>\n",
              "      <th>16</th>\n",
              "      <td>charles</td>\n",
              "      <td>14</td>\n",
              "    </tr>\n",
              "    <tr>\n",
              "      <th>17</th>\n",
              "      <td>charles</td>\n",
              "      <td>19</td>\n",
              "    </tr>\n",
              "    <tr>\n",
              "      <th>18</th>\n",
              "      <td>Anis</td>\n",
              "      <td>20</td>\n",
              "    </tr>\n",
              "    <tr>\n",
              "      <th>19</th>\n",
              "      <td>moha</td>\n",
              "      <td>11</td>\n",
              "    </tr>\n",
              "    <tr>\n",
              "      <th>20</th>\n",
              "      <td>moha</td>\n",
              "      <td>5</td>\n",
              "    </tr>\n",
              "    <tr>\n",
              "      <th>21</th>\n",
              "      <td>moha</td>\n",
              "      <td>15</td>\n",
              "    </tr>\n",
              "    <tr>\n",
              "      <th>22</th>\n",
              "      <td>Anis</td>\n",
              "      <td>16</td>\n",
              "    </tr>\n",
              "    <tr>\n",
              "      <th>23</th>\n",
              "      <td>charles</td>\n",
              "      <td>9</td>\n",
              "    </tr>\n",
              "    <tr>\n",
              "      <th>24</th>\n",
              "      <td>moha</td>\n",
              "      <td>8</td>\n",
              "    </tr>\n",
              "    <tr>\n",
              "      <th>25</th>\n",
              "      <td>camille</td>\n",
              "      <td>6</td>\n",
              "    </tr>\n",
              "    <tr>\n",
              "      <th>26</th>\n",
              "      <td>charles</td>\n",
              "      <td>14</td>\n",
              "    </tr>\n",
              "    <tr>\n",
              "      <th>27</th>\n",
              "      <td>camille</td>\n",
              "      <td>15</td>\n",
              "    </tr>\n",
              "    <tr>\n",
              "      <th>28</th>\n",
              "      <td>will</td>\n",
              "      <td>4</td>\n",
              "    </tr>\n",
              "    <tr>\n",
              "      <th>29</th>\n",
              "      <td>moha</td>\n",
              "      <td>7</td>\n",
              "    </tr>\n",
              "    <tr>\n",
              "      <th>30</th>\n",
              "      <td>charles</td>\n",
              "      <td>1</td>\n",
              "    </tr>\n",
              "    <tr>\n",
              "      <th>31</th>\n",
              "      <td>will</td>\n",
              "      <td>6</td>\n",
              "    </tr>\n",
              "    <tr>\n",
              "      <th>32</th>\n",
              "      <td>will</td>\n",
              "      <td>20</td>\n",
              "    </tr>\n",
              "    <tr>\n",
              "      <th>33</th>\n",
              "      <td>charles</td>\n",
              "      <td>6</td>\n",
              "    </tr>\n",
              "    <tr>\n",
              "      <th>34</th>\n",
              "      <td>charles</td>\n",
              "      <td>3</td>\n",
              "    </tr>\n",
              "    <tr>\n",
              "      <th>35</th>\n",
              "      <td>Anis</td>\n",
              "      <td>5</td>\n",
              "    </tr>\n",
              "    <tr>\n",
              "      <th>36</th>\n",
              "      <td>nora</td>\n",
              "      <td>4</td>\n",
              "    </tr>\n",
              "    <tr>\n",
              "      <th>37</th>\n",
              "      <td>charles</td>\n",
              "      <td>2</td>\n",
              "    </tr>\n",
              "    <tr>\n",
              "      <th>38</th>\n",
              "      <td>camille</td>\n",
              "      <td>4</td>\n",
              "    </tr>\n",
              "    <tr>\n",
              "      <th>39</th>\n",
              "      <td>Anis</td>\n",
              "      <td>7</td>\n",
              "    </tr>\n",
              "    <tr>\n",
              "      <th>40</th>\n",
              "      <td>nora</td>\n",
              "      <td>3</td>\n",
              "    </tr>\n",
              "    <tr>\n",
              "      <th>41</th>\n",
              "      <td>camille</td>\n",
              "      <td>1</td>\n",
              "    </tr>\n",
              "    <tr>\n",
              "      <th>42</th>\n",
              "      <td>will</td>\n",
              "      <td>14</td>\n",
              "    </tr>\n",
              "    <tr>\n",
              "      <th>43</th>\n",
              "      <td>nora</td>\n",
              "      <td>14</td>\n",
              "    </tr>\n",
              "    <tr>\n",
              "      <th>44</th>\n",
              "      <td>nora</td>\n",
              "      <td>2</td>\n",
              "    </tr>\n",
              "    <tr>\n",
              "      <th>45</th>\n",
              "      <td>charles</td>\n",
              "      <td>11</td>\n",
              "    </tr>\n",
              "    <tr>\n",
              "      <th>46</th>\n",
              "      <td>camille</td>\n",
              "      <td>12</td>\n",
              "    </tr>\n",
              "    <tr>\n",
              "      <th>47</th>\n",
              "      <td>charles</td>\n",
              "      <td>10</td>\n",
              "    </tr>\n",
              "    <tr>\n",
              "      <th>48</th>\n",
              "      <td>will</td>\n",
              "      <td>17</td>\n",
              "    </tr>\n",
              "    <tr>\n",
              "      <th>49</th>\n",
              "      <td>Anis</td>\n",
              "      <td>17</td>\n",
              "    </tr>\n",
              "    <tr>\n",
              "      <th>50</th>\n",
              "      <td>nora</td>\n",
              "      <td>8</td>\n",
              "    </tr>\n",
              "    <tr>\n",
              "      <th>51</th>\n",
              "      <td>charles</td>\n",
              "      <td>4</td>\n",
              "    </tr>\n",
              "    <tr>\n",
              "      <th>52</th>\n",
              "      <td>charles</td>\n",
              "      <td>20</td>\n",
              "    </tr>\n",
              "    <tr>\n",
              "      <th>53</th>\n",
              "      <td>will</td>\n",
              "      <td>3</td>\n",
              "    </tr>\n",
              "    <tr>\n",
              "      <th>54</th>\n",
              "      <td>nora</td>\n",
              "      <td>9</td>\n",
              "    </tr>\n",
              "    <tr>\n",
              "      <th>55</th>\n",
              "      <td>Anis</td>\n",
              "      <td>12</td>\n",
              "    </tr>\n",
              "    <tr>\n",
              "      <th>56</th>\n",
              "      <td>moha</td>\n",
              "      <td>16</td>\n",
              "    </tr>\n",
              "    <tr>\n",
              "      <th>57</th>\n",
              "      <td>will</td>\n",
              "      <td>1</td>\n",
              "    </tr>\n",
              "    <tr>\n",
              "      <th>58</th>\n",
              "      <td>camille</td>\n",
              "      <td>12</td>\n",
              "    </tr>\n",
              "    <tr>\n",
              "      <th>59</th>\n",
              "      <td>charles</td>\n",
              "      <td>11</td>\n",
              "    </tr>\n",
              "  </tbody>\n",
              "</table>\n",
              "</div>"
            ],
            "text/plain": [
              "     eleves  note\n",
              "0   charles     3\n",
              "1   charles    12\n",
              "2   charles    18\n",
              "3      will     8\n",
              "4      Anis     1\n",
              "5      will     4\n",
              "6   camille     8\n",
              "7   charles    14\n",
              "8      moha    16\n",
              "9   camille    11\n",
              "10     Anis     8\n",
              "11  charles     8\n",
              "12     will     6\n",
              "13  charles     4\n",
              "14  camille     4\n",
              "15  camille    13\n",
              "16  charles    14\n",
              "17  charles    19\n",
              "18     Anis    20\n",
              "19     moha    11\n",
              "20     moha     5\n",
              "21     moha    15\n",
              "22     Anis    16\n",
              "23  charles     9\n",
              "24     moha     8\n",
              "25  camille     6\n",
              "26  charles    14\n",
              "27  camille    15\n",
              "28     will     4\n",
              "29     moha     7\n",
              "30  charles     1\n",
              "31     will     6\n",
              "32     will    20\n",
              "33  charles     6\n",
              "34  charles     3\n",
              "35     Anis     5\n",
              "36     nora     4\n",
              "37  charles     2\n",
              "38  camille     4\n",
              "39     Anis     7\n",
              "40     nora     3\n",
              "41  camille     1\n",
              "42     will    14\n",
              "43     nora    14\n",
              "44     nora     2\n",
              "45  charles    11\n",
              "46  camille    12\n",
              "47  charles    10\n",
              "48     will    17\n",
              "49     Anis    17\n",
              "50     nora     8\n",
              "51  charles     4\n",
              "52  charles    20\n",
              "53     will     3\n",
              "54     nora     9\n",
              "55     Anis    12\n",
              "56     moha    16\n",
              "57     will     1\n",
              "58  camille    12\n",
              "59  charles    11"
            ]
          },
          "metadata": {
            "tags": []
          },
          "execution_count": 13
        }
      ]
    },
    {
      "cell_type": "code",
      "metadata": {
        "id": "zQWOhQRzspGj",
        "outputId": "49f6e8ee-2a62-47fe-a495-505c456d86a8",
        "colab": {
          "base_uri": "https://localhost:8080/",
          "height": 965
        }
      },
      "source": [
        "& #last time to keep only 5 most popular firstname in each year/sex group we did:\n",
        "def get_top5(df):\n",
        "  return df.sort_values(by=\"note\")[-5:]\n",
        "eleves_notes.groupby(['eleves']).apply(get_top5)"
      ],
      "execution_count": null,
      "outputs": [
        {
          "output_type": "execute_result",
          "data": {
            "text/html": [
              "<div>\n",
              "<style scoped>\n",
              "    .dataframe tbody tr th:only-of-type {\n",
              "        vertical-align: middle;\n",
              "    }\n",
              "\n",
              "    .dataframe tbody tr th {\n",
              "        vertical-align: top;\n",
              "    }\n",
              "\n",
              "    .dataframe thead th {\n",
              "        text-align: right;\n",
              "    }\n",
              "</style>\n",
              "<table border=\"1\" class=\"dataframe\">\n",
              "  <thead>\n",
              "    <tr style=\"text-align: right;\">\n",
              "      <th></th>\n",
              "      <th></th>\n",
              "      <th>eleves</th>\n",
              "      <th>note</th>\n",
              "    </tr>\n",
              "    <tr>\n",
              "      <th>eleves</th>\n",
              "      <th></th>\n",
              "      <th></th>\n",
              "      <th></th>\n",
              "    </tr>\n",
              "  </thead>\n",
              "  <tbody>\n",
              "    <tr>\n",
              "      <th rowspan=\"5\" valign=\"top\">Anis</th>\n",
              "      <th>12</th>\n",
              "      <td>Anis</td>\n",
              "      <td>8</td>\n",
              "    </tr>\n",
              "    <tr>\n",
              "      <th>23</th>\n",
              "      <td>Anis</td>\n",
              "      <td>9</td>\n",
              "    </tr>\n",
              "    <tr>\n",
              "      <th>24</th>\n",
              "      <td>Anis</td>\n",
              "      <td>12</td>\n",
              "    </tr>\n",
              "    <tr>\n",
              "      <th>7</th>\n",
              "      <td>Anis</td>\n",
              "      <td>15</td>\n",
              "    </tr>\n",
              "    <tr>\n",
              "      <th>54</th>\n",
              "      <td>Anis</td>\n",
              "      <td>19</td>\n",
              "    </tr>\n",
              "    <tr>\n",
              "      <th rowspan=\"5\" valign=\"top\">camille</th>\n",
              "      <th>47</th>\n",
              "      <td>camille</td>\n",
              "      <td>10</td>\n",
              "    </tr>\n",
              "    <tr>\n",
              "      <th>15</th>\n",
              "      <td>camille</td>\n",
              "      <td>12</td>\n",
              "    </tr>\n",
              "    <tr>\n",
              "      <th>57</th>\n",
              "      <td>camille</td>\n",
              "      <td>13</td>\n",
              "    </tr>\n",
              "    <tr>\n",
              "      <th>3</th>\n",
              "      <td>camille</td>\n",
              "      <td>15</td>\n",
              "    </tr>\n",
              "    <tr>\n",
              "      <th>6</th>\n",
              "      <td>camille</td>\n",
              "      <td>20</td>\n",
              "    </tr>\n",
              "    <tr>\n",
              "      <th rowspan=\"5\" valign=\"top\">charles</th>\n",
              "      <th>1</th>\n",
              "      <td>charles</td>\n",
              "      <td>7</td>\n",
              "    </tr>\n",
              "    <tr>\n",
              "      <th>34</th>\n",
              "      <td>charles</td>\n",
              "      <td>12</td>\n",
              "    </tr>\n",
              "    <tr>\n",
              "      <th>45</th>\n",
              "      <td>charles</td>\n",
              "      <td>13</td>\n",
              "    </tr>\n",
              "    <tr>\n",
              "      <th>31</th>\n",
              "      <td>charles</td>\n",
              "      <td>16</td>\n",
              "    </tr>\n",
              "    <tr>\n",
              "      <th>16</th>\n",
              "      <td>charles</td>\n",
              "      <td>20</td>\n",
              "    </tr>\n",
              "    <tr>\n",
              "      <th rowspan=\"5\" valign=\"top\">moha</th>\n",
              "      <th>2</th>\n",
              "      <td>moha</td>\n",
              "      <td>12</td>\n",
              "    </tr>\n",
              "    <tr>\n",
              "      <th>39</th>\n",
              "      <td>moha</td>\n",
              "      <td>13</td>\n",
              "    </tr>\n",
              "    <tr>\n",
              "      <th>56</th>\n",
              "      <td>moha</td>\n",
              "      <td>13</td>\n",
              "    </tr>\n",
              "    <tr>\n",
              "      <th>5</th>\n",
              "      <td>moha</td>\n",
              "      <td>20</td>\n",
              "    </tr>\n",
              "    <tr>\n",
              "      <th>58</th>\n",
              "      <td>moha</td>\n",
              "      <td>20</td>\n",
              "    </tr>\n",
              "    <tr>\n",
              "      <th rowspan=\"5\" valign=\"top\">nora</th>\n",
              "      <th>35</th>\n",
              "      <td>nora</td>\n",
              "      <td>14</td>\n",
              "    </tr>\n",
              "    <tr>\n",
              "      <th>10</th>\n",
              "      <td>nora</td>\n",
              "      <td>15</td>\n",
              "    </tr>\n",
              "    <tr>\n",
              "      <th>59</th>\n",
              "      <td>nora</td>\n",
              "      <td>16</td>\n",
              "    </tr>\n",
              "    <tr>\n",
              "      <th>18</th>\n",
              "      <td>nora</td>\n",
              "      <td>18</td>\n",
              "    </tr>\n",
              "    <tr>\n",
              "      <th>20</th>\n",
              "      <td>nora</td>\n",
              "      <td>20</td>\n",
              "    </tr>\n",
              "    <tr>\n",
              "      <th rowspan=\"5\" valign=\"top\">will</th>\n",
              "      <th>17</th>\n",
              "      <td>will</td>\n",
              "      <td>14</td>\n",
              "    </tr>\n",
              "    <tr>\n",
              "      <th>38</th>\n",
              "      <td>will</td>\n",
              "      <td>14</td>\n",
              "    </tr>\n",
              "    <tr>\n",
              "      <th>21</th>\n",
              "      <td>will</td>\n",
              "      <td>16</td>\n",
              "    </tr>\n",
              "    <tr>\n",
              "      <th>43</th>\n",
              "      <td>will</td>\n",
              "      <td>18</td>\n",
              "    </tr>\n",
              "    <tr>\n",
              "      <th>26</th>\n",
              "      <td>will</td>\n",
              "      <td>20</td>\n",
              "    </tr>\n",
              "  </tbody>\n",
              "</table>\n",
              "</div>"
            ],
            "text/plain": [
              "             eleves  note\n",
              "eleves                   \n",
              "Anis    12     Anis     8\n",
              "        23     Anis     9\n",
              "        24     Anis    12\n",
              "        7      Anis    15\n",
              "        54     Anis    19\n",
              "camille 47  camille    10\n",
              "        15  camille    12\n",
              "        57  camille    13\n",
              "        3   camille    15\n",
              "        6   camille    20\n",
              "charles 1   charles     7\n",
              "        34  charles    12\n",
              "        45  charles    13\n",
              "        31  charles    16\n",
              "        16  charles    20\n",
              "moha    2      moha    12\n",
              "        39     moha    13\n",
              "        56     moha    13\n",
              "        5      moha    20\n",
              "        58     moha    20\n",
              "nora    35     nora    14\n",
              "        10     nora    15\n",
              "        59     nora    16\n",
              "        18     nora    18\n",
              "        20     nora    20\n",
              "will    17     will    14\n",
              "        38     will    14\n",
              "        21     will    16\n",
              "        43     will    18\n",
              "        26     will    20"
            ]
          },
          "metadata": {
            "tags": []
          },
          "execution_count": 26
        }
      ]
    },
    {
      "cell_type": "code",
      "metadata": {
        "id": "oCLow0NAtOe8",
        "outputId": "3275c284-f41b-405b-bd02-2175f7a02678",
        "colab": {
          "base_uri": "https://localhost:8080/",
          "height": 34
        }
      },
      "source": [
        "# now we want a general get_top5 method\n",
        "#define a funtion\n",
        "def asurb(a,b):\n",
        "  return a/b\n",
        "#calling a function with ordered parametere\n",
        "asurb(10,2)"
      ],
      "execution_count": null,
      "outputs": [
        {
          "output_type": "execute_result",
          "data": {
            "text/plain": [
              "5.0"
            ]
          },
          "metadata": {
            "tags": []
          },
          "execution_count": 28
        }
      ]
    },
    {
      "cell_type": "code",
      "metadata": {
        "id": "lN2llKkXuLQo",
        "outputId": "57824240-b6d2-4ccd-8c5b-60ead16472dc",
        "colab": {
          "base_uri": "https://localhost:8080/",
          "height": 34
        }
      },
      "source": [
        "#calling with named parameters\n",
        "asurb(b=10,a=20)"
      ],
      "execution_count": null,
      "outputs": [
        {
          "output_type": "execute_result",
          "data": {
            "text/plain": [
              "2.0"
            ]
          },
          "metadata": {
            "tags": []
          },
          "execution_count": 30
        }
      ]
    },
    {
      "cell_type": "code",
      "metadata": {
        "id": "1nBUSEtxuQMa",
        "outputId": "8844295f-05c5-4b05-b7fd-f876a1aaa3c0",
        "colab": {
          "base_uri": "https://localhost:8080/",
          "height": 34
        }
      },
      "source": [
        "#parametre facultatif parce que on  leur donne des valeur par defaut\n",
        "def asurb(a=10,b=2):\n",
        "  return a/b\n",
        "asurb(b=10)"
      ],
      "execution_count": null,
      "outputs": [
        {
          "output_type": "execute_result",
          "data": {
            "text/plain": [
              "1.0"
            ]
          },
          "metadata": {
            "tags": []
          },
          "execution_count": 31
        }
      ]
    },
    {
      "cell_type": "code",
      "metadata": {
        "id": "2qzTYzS-uz5C",
        "outputId": "50f30a88-67d6-4751-fff1-7e5d080db9c3",
        "colab": {
          "base_uri": "https://localhost:8080/",
          "height": 337
        }
      },
      "source": [
        "def get_top(df,**kwags):\n",
        "  return df.sort_values(by=\"note\")[-kwags['top']:]\n",
        "eleves_notes.groupby(['eleve']).apply(get_top,top=5)\n"
      ],
      "execution_count": null,
      "outputs": [
        {
          "output_type": "error",
          "ename": "KeyError",
          "evalue": "ignored",
          "traceback": [
            "\u001b[0;31m---------------------------------------------------------------------------\u001b[0m",
            "\u001b[0;31mKeyError\u001b[0m                                  Traceback (most recent call last)",
            "\u001b[0;32m<ipython-input-33-8acf0b7972e8>\u001b[0m in \u001b[0;36m<module>\u001b[0;34m()\u001b[0m\n\u001b[1;32m      1\u001b[0m \u001b[0;32mdef\u001b[0m \u001b[0mget_top\u001b[0m\u001b[0;34m(\u001b[0m\u001b[0mdf\u001b[0m\u001b[0;34m,\u001b[0m\u001b[0;34m**\u001b[0m\u001b[0mkwags\u001b[0m\u001b[0;34m)\u001b[0m\u001b[0;34m:\u001b[0m\u001b[0;34m\u001b[0m\u001b[0;34m\u001b[0m\u001b[0m\n\u001b[1;32m      2\u001b[0m   \u001b[0;32mreturn\u001b[0m \u001b[0mdf\u001b[0m\u001b[0;34m.\u001b[0m\u001b[0msort_values\u001b[0m\u001b[0;34m(\u001b[0m\u001b[0mby\u001b[0m\u001b[0;34m=\u001b[0m\u001b[0;34m\"note\"\u001b[0m\u001b[0;34m)\u001b[0m\u001b[0;34m[\u001b[0m\u001b[0;34m-\u001b[0m\u001b[0mkwags\u001b[0m\u001b[0;34m[\u001b[0m\u001b[0;34m'top'\u001b[0m\u001b[0;34m]\u001b[0m\u001b[0;34m:\u001b[0m\u001b[0;34m]\u001b[0m\u001b[0;34m\u001b[0m\u001b[0;34m\u001b[0m\u001b[0m\n\u001b[0;32m----> 3\u001b[0;31m \u001b[0meleves_notes\u001b[0m\u001b[0;34m.\u001b[0m\u001b[0mgroupby\u001b[0m\u001b[0;34m(\u001b[0m\u001b[0;34m[\u001b[0m\u001b[0;34m'eleve'\u001b[0m\u001b[0;34m]\u001b[0m\u001b[0;34m)\u001b[0m\u001b[0;34m.\u001b[0m\u001b[0mapply\u001b[0m\u001b[0;34m(\u001b[0m\u001b[0mget_top\u001b[0m\u001b[0;34m,\u001b[0m\u001b[0mtop\u001b[0m\u001b[0;34m=\u001b[0m\u001b[0;36m5\u001b[0m\u001b[0;34m)\u001b[0m\u001b[0;34m\u001b[0m\u001b[0;34m\u001b[0m\u001b[0m\n\u001b[0m",
            "\u001b[0;32m/usr/local/lib/python3.6/dist-packages/pandas/core/frame.py\u001b[0m in \u001b[0;36mgroupby\u001b[0;34m(self, by, axis, level, as_index, sort, group_keys, squeeze, observed, dropna)\u001b[0m\n\u001b[1;32m   6518\u001b[0m             \u001b[0msqueeze\u001b[0m\u001b[0;34m=\u001b[0m\u001b[0msqueeze\u001b[0m\u001b[0;34m,\u001b[0m\u001b[0;34m\u001b[0m\u001b[0;34m\u001b[0m\u001b[0m\n\u001b[1;32m   6519\u001b[0m             \u001b[0mobserved\u001b[0m\u001b[0;34m=\u001b[0m\u001b[0mobserved\u001b[0m\u001b[0;34m,\u001b[0m\u001b[0;34m\u001b[0m\u001b[0;34m\u001b[0m\u001b[0m\n\u001b[0;32m-> 6520\u001b[0;31m             \u001b[0mdropna\u001b[0m\u001b[0;34m=\u001b[0m\u001b[0mdropna\u001b[0m\u001b[0;34m,\u001b[0m\u001b[0;34m\u001b[0m\u001b[0;34m\u001b[0m\u001b[0m\n\u001b[0m\u001b[1;32m   6521\u001b[0m         )\n\u001b[1;32m   6522\u001b[0m \u001b[0;34m\u001b[0m\u001b[0m\n",
            "\u001b[0;32m/usr/local/lib/python3.6/dist-packages/pandas/core/groupby/groupby.py\u001b[0m in \u001b[0;36m__init__\u001b[0;34m(self, obj, keys, axis, level, grouper, exclusions, selection, as_index, sort, group_keys, squeeze, observed, mutated, dropna)\u001b[0m\n\u001b[1;32m    531\u001b[0m                 \u001b[0mobserved\u001b[0m\u001b[0;34m=\u001b[0m\u001b[0mobserved\u001b[0m\u001b[0;34m,\u001b[0m\u001b[0;34m\u001b[0m\u001b[0;34m\u001b[0m\u001b[0m\n\u001b[1;32m    532\u001b[0m                 \u001b[0mmutated\u001b[0m\u001b[0;34m=\u001b[0m\u001b[0mself\u001b[0m\u001b[0;34m.\u001b[0m\u001b[0mmutated\u001b[0m\u001b[0;34m,\u001b[0m\u001b[0;34m\u001b[0m\u001b[0;34m\u001b[0m\u001b[0m\n\u001b[0;32m--> 533\u001b[0;31m                 \u001b[0mdropna\u001b[0m\u001b[0;34m=\u001b[0m\u001b[0mself\u001b[0m\u001b[0;34m.\u001b[0m\u001b[0mdropna\u001b[0m\u001b[0;34m,\u001b[0m\u001b[0;34m\u001b[0m\u001b[0;34m\u001b[0m\u001b[0m\n\u001b[0m\u001b[1;32m    534\u001b[0m             )\n\u001b[1;32m    535\u001b[0m \u001b[0;34m\u001b[0m\u001b[0m\n",
            "\u001b[0;32m/usr/local/lib/python3.6/dist-packages/pandas/core/groupby/grouper.py\u001b[0m in \u001b[0;36mget_grouper\u001b[0;34m(obj, key, axis, level, sort, observed, mutated, validate, dropna)\u001b[0m\n\u001b[1;32m    779\u001b[0m                 \u001b[0min_axis\u001b[0m\u001b[0;34m,\u001b[0m \u001b[0mname\u001b[0m\u001b[0;34m,\u001b[0m \u001b[0mlevel\u001b[0m\u001b[0;34m,\u001b[0m \u001b[0mgpr\u001b[0m \u001b[0;34m=\u001b[0m \u001b[0;32mFalse\u001b[0m\u001b[0;34m,\u001b[0m \u001b[0;32mNone\u001b[0m\u001b[0;34m,\u001b[0m \u001b[0mgpr\u001b[0m\u001b[0;34m,\u001b[0m \u001b[0;32mNone\u001b[0m\u001b[0;34m\u001b[0m\u001b[0;34m\u001b[0m\u001b[0m\n\u001b[1;32m    780\u001b[0m             \u001b[0;32melse\u001b[0m\u001b[0;34m:\u001b[0m\u001b[0;34m\u001b[0m\u001b[0;34m\u001b[0m\u001b[0m\n\u001b[0;32m--> 781\u001b[0;31m                 \u001b[0;32mraise\u001b[0m \u001b[0mKeyError\u001b[0m\u001b[0;34m(\u001b[0m\u001b[0mgpr\u001b[0m\u001b[0;34m)\u001b[0m\u001b[0;34m\u001b[0m\u001b[0;34m\u001b[0m\u001b[0m\n\u001b[0m\u001b[1;32m    782\u001b[0m         \u001b[0;32melif\u001b[0m \u001b[0misinstance\u001b[0m\u001b[0;34m(\u001b[0m\u001b[0mgpr\u001b[0m\u001b[0;34m,\u001b[0m \u001b[0mGrouper\u001b[0m\u001b[0;34m)\u001b[0m \u001b[0;32mand\u001b[0m \u001b[0mgpr\u001b[0m\u001b[0;34m.\u001b[0m\u001b[0mkey\u001b[0m \u001b[0;32mis\u001b[0m \u001b[0;32mnot\u001b[0m \u001b[0;32mNone\u001b[0m\u001b[0;34m:\u001b[0m\u001b[0;34m\u001b[0m\u001b[0;34m\u001b[0m\u001b[0m\n\u001b[1;32m    783\u001b[0m             \u001b[0;31m# Add key to exclusions\u001b[0m\u001b[0;34m\u001b[0m\u001b[0;34m\u001b[0m\u001b[0;34m\u001b[0m\u001b[0m\n",
            "\u001b[0;31mKeyError\u001b[0m: 'eleve'"
          ]
        }
      ]
    },
    {
      "cell_type": "code",
      "metadata": {
        "id": "Yo8iwQZiv9ZS",
        "outputId": "3e36432e-5310-49f8-e28c-4fac949d6562",
        "colab": {
          "base_uri": "https://localhost:8080/",
          "height": 965
        }
      },
      "source": [
        "# During last TP,  A STUDENT PROPOSED:\n",
        "# **kwags will create a dict with all the named parameters\n",
        "def get_top(df,**kwags):\n",
        "    return df.sort_values(by=\"note\")[-kwags['top']:]\n",
        "\n",
        "eleves_notes.groupby(['eleves']).apply(get_top,top=5)\n"
      ],
      "execution_count": null,
      "outputs": [
        {
          "output_type": "execute_result",
          "data": {
            "text/html": [
              "<div>\n",
              "<style scoped>\n",
              "    .dataframe tbody tr th:only-of-type {\n",
              "        vertical-align: middle;\n",
              "    }\n",
              "\n",
              "    .dataframe tbody tr th {\n",
              "        vertical-align: top;\n",
              "    }\n",
              "\n",
              "    .dataframe thead th {\n",
              "        text-align: right;\n",
              "    }\n",
              "</style>\n",
              "<table border=\"1\" class=\"dataframe\">\n",
              "  <thead>\n",
              "    <tr style=\"text-align: right;\">\n",
              "      <th></th>\n",
              "      <th></th>\n",
              "      <th>eleves</th>\n",
              "      <th>note</th>\n",
              "    </tr>\n",
              "    <tr>\n",
              "      <th>eleves</th>\n",
              "      <th></th>\n",
              "      <th></th>\n",
              "      <th></th>\n",
              "    </tr>\n",
              "  </thead>\n",
              "  <tbody>\n",
              "    <tr>\n",
              "      <th rowspan=\"5\" valign=\"top\">Anis</th>\n",
              "      <th>12</th>\n",
              "      <td>Anis</td>\n",
              "      <td>8</td>\n",
              "    </tr>\n",
              "    <tr>\n",
              "      <th>23</th>\n",
              "      <td>Anis</td>\n",
              "      <td>9</td>\n",
              "    </tr>\n",
              "    <tr>\n",
              "      <th>24</th>\n",
              "      <td>Anis</td>\n",
              "      <td>12</td>\n",
              "    </tr>\n",
              "    <tr>\n",
              "      <th>7</th>\n",
              "      <td>Anis</td>\n",
              "      <td>15</td>\n",
              "    </tr>\n",
              "    <tr>\n",
              "      <th>54</th>\n",
              "      <td>Anis</td>\n",
              "      <td>19</td>\n",
              "    </tr>\n",
              "    <tr>\n",
              "      <th rowspan=\"5\" valign=\"top\">camille</th>\n",
              "      <th>47</th>\n",
              "      <td>camille</td>\n",
              "      <td>10</td>\n",
              "    </tr>\n",
              "    <tr>\n",
              "      <th>15</th>\n",
              "      <td>camille</td>\n",
              "      <td>12</td>\n",
              "    </tr>\n",
              "    <tr>\n",
              "      <th>57</th>\n",
              "      <td>camille</td>\n",
              "      <td>13</td>\n",
              "    </tr>\n",
              "    <tr>\n",
              "      <th>3</th>\n",
              "      <td>camille</td>\n",
              "      <td>15</td>\n",
              "    </tr>\n",
              "    <tr>\n",
              "      <th>6</th>\n",
              "      <td>camille</td>\n",
              "      <td>20</td>\n",
              "    </tr>\n",
              "    <tr>\n",
              "      <th rowspan=\"5\" valign=\"top\">charles</th>\n",
              "      <th>1</th>\n",
              "      <td>charles</td>\n",
              "      <td>7</td>\n",
              "    </tr>\n",
              "    <tr>\n",
              "      <th>34</th>\n",
              "      <td>charles</td>\n",
              "      <td>12</td>\n",
              "    </tr>\n",
              "    <tr>\n",
              "      <th>45</th>\n",
              "      <td>charles</td>\n",
              "      <td>13</td>\n",
              "    </tr>\n",
              "    <tr>\n",
              "      <th>31</th>\n",
              "      <td>charles</td>\n",
              "      <td>16</td>\n",
              "    </tr>\n",
              "    <tr>\n",
              "      <th>16</th>\n",
              "      <td>charles</td>\n",
              "      <td>20</td>\n",
              "    </tr>\n",
              "    <tr>\n",
              "      <th rowspan=\"5\" valign=\"top\">moha</th>\n",
              "      <th>2</th>\n",
              "      <td>moha</td>\n",
              "      <td>12</td>\n",
              "    </tr>\n",
              "    <tr>\n",
              "      <th>39</th>\n",
              "      <td>moha</td>\n",
              "      <td>13</td>\n",
              "    </tr>\n",
              "    <tr>\n",
              "      <th>56</th>\n",
              "      <td>moha</td>\n",
              "      <td>13</td>\n",
              "    </tr>\n",
              "    <tr>\n",
              "      <th>5</th>\n",
              "      <td>moha</td>\n",
              "      <td>20</td>\n",
              "    </tr>\n",
              "    <tr>\n",
              "      <th>58</th>\n",
              "      <td>moha</td>\n",
              "      <td>20</td>\n",
              "    </tr>\n",
              "    <tr>\n",
              "      <th rowspan=\"5\" valign=\"top\">nora</th>\n",
              "      <th>35</th>\n",
              "      <td>nora</td>\n",
              "      <td>14</td>\n",
              "    </tr>\n",
              "    <tr>\n",
              "      <th>10</th>\n",
              "      <td>nora</td>\n",
              "      <td>15</td>\n",
              "    </tr>\n",
              "    <tr>\n",
              "      <th>59</th>\n",
              "      <td>nora</td>\n",
              "      <td>16</td>\n",
              "    </tr>\n",
              "    <tr>\n",
              "      <th>18</th>\n",
              "      <td>nora</td>\n",
              "      <td>18</td>\n",
              "    </tr>\n",
              "    <tr>\n",
              "      <th>20</th>\n",
              "      <td>nora</td>\n",
              "      <td>20</td>\n",
              "    </tr>\n",
              "    <tr>\n",
              "      <th rowspan=\"5\" valign=\"top\">will</th>\n",
              "      <th>17</th>\n",
              "      <td>will</td>\n",
              "      <td>14</td>\n",
              "    </tr>\n",
              "    <tr>\n",
              "      <th>38</th>\n",
              "      <td>will</td>\n",
              "      <td>14</td>\n",
              "    </tr>\n",
              "    <tr>\n",
              "      <th>21</th>\n",
              "      <td>will</td>\n",
              "      <td>16</td>\n",
              "    </tr>\n",
              "    <tr>\n",
              "      <th>43</th>\n",
              "      <td>will</td>\n",
              "      <td>18</td>\n",
              "    </tr>\n",
              "    <tr>\n",
              "      <th>26</th>\n",
              "      <td>will</td>\n",
              "      <td>20</td>\n",
              "    </tr>\n",
              "  </tbody>\n",
              "</table>\n",
              "</div>"
            ],
            "text/plain": [
              "             eleves  note\n",
              "eleves                   \n",
              "Anis    12     Anis     8\n",
              "        23     Anis     9\n",
              "        24     Anis    12\n",
              "        7      Anis    15\n",
              "        54     Anis    19\n",
              "camille 47  camille    10\n",
              "        15  camille    12\n",
              "        57  camille    13\n",
              "        3   camille    15\n",
              "        6   camille    20\n",
              "charles 1   charles     7\n",
              "        34  charles    12\n",
              "        45  charles    13\n",
              "        31  charles    16\n",
              "        16  charles    20\n",
              "moha    2      moha    12\n",
              "        39     moha    13\n",
              "        56     moha    13\n",
              "        5      moha    20\n",
              "        58     moha    20\n",
              "nora    35     nora    14\n",
              "        10     nora    15\n",
              "        59     nora    16\n",
              "        18     nora    18\n",
              "        20     nora    20\n",
              "will    17     will    14\n",
              "        38     will    14\n",
              "        21     will    16\n",
              "        43     will    18\n",
              "        26     will    20"
            ]
          },
          "metadata": {
            "tags": []
          },
          "execution_count": 35
        }
      ]
    },
    {
      "cell_type": "code",
      "metadata": {
        "id": "X7XZFFnmvWmg"
      },
      "source": [
        "def get_top(df,**mondicoamoi):\n",
        "  return df.sort_values(by=mondicoamoi['sort'])[-mondicoamoi['top']:]"
      ],
      "execution_count": null,
      "outputs": []
    },
    {
      "cell_type": "code",
      "metadata": {
        "id": "ParIfS2Vxw7j",
        "outputId": "e1b24780-7fb1-4471-c46a-c52b14cf130b",
        "colab": {
          "base_uri": "https://localhost:8080/",
          "height": 432
        }
      },
      "source": [
        "def get_top(df,top,sort):    \n",
        "    return df.sort_values(by=sort)[-top:]\n",
        "\n",
        "eleves_notes.groupby(['eleves']).apply(get_top,sort=\"note\",top=2)\n"
      ],
      "execution_count": null,
      "outputs": [
        {
          "output_type": "execute_result",
          "data": {
            "text/html": [
              "<div>\n",
              "<style scoped>\n",
              "    .dataframe tbody tr th:only-of-type {\n",
              "        vertical-align: middle;\n",
              "    }\n",
              "\n",
              "    .dataframe tbody tr th {\n",
              "        vertical-align: top;\n",
              "    }\n",
              "\n",
              "    .dataframe thead th {\n",
              "        text-align: right;\n",
              "    }\n",
              "</style>\n",
              "<table border=\"1\" class=\"dataframe\">\n",
              "  <thead>\n",
              "    <tr style=\"text-align: right;\">\n",
              "      <th></th>\n",
              "      <th></th>\n",
              "      <th>eleves</th>\n",
              "      <th>note</th>\n",
              "    </tr>\n",
              "    <tr>\n",
              "      <th>eleves</th>\n",
              "      <th></th>\n",
              "      <th></th>\n",
              "      <th></th>\n",
              "    </tr>\n",
              "  </thead>\n",
              "  <tbody>\n",
              "    <tr>\n",
              "      <th rowspan=\"2\" valign=\"top\">Anis</th>\n",
              "      <th>7</th>\n",
              "      <td>Anis</td>\n",
              "      <td>15</td>\n",
              "    </tr>\n",
              "    <tr>\n",
              "      <th>54</th>\n",
              "      <td>Anis</td>\n",
              "      <td>19</td>\n",
              "    </tr>\n",
              "    <tr>\n",
              "      <th rowspan=\"2\" valign=\"top\">camille</th>\n",
              "      <th>3</th>\n",
              "      <td>camille</td>\n",
              "      <td>15</td>\n",
              "    </tr>\n",
              "    <tr>\n",
              "      <th>6</th>\n",
              "      <td>camille</td>\n",
              "      <td>20</td>\n",
              "    </tr>\n",
              "    <tr>\n",
              "      <th rowspan=\"2\" valign=\"top\">charles</th>\n",
              "      <th>31</th>\n",
              "      <td>charles</td>\n",
              "      <td>16</td>\n",
              "    </tr>\n",
              "    <tr>\n",
              "      <th>16</th>\n",
              "      <td>charles</td>\n",
              "      <td>20</td>\n",
              "    </tr>\n",
              "    <tr>\n",
              "      <th rowspan=\"2\" valign=\"top\">moha</th>\n",
              "      <th>5</th>\n",
              "      <td>moha</td>\n",
              "      <td>20</td>\n",
              "    </tr>\n",
              "    <tr>\n",
              "      <th>58</th>\n",
              "      <td>moha</td>\n",
              "      <td>20</td>\n",
              "    </tr>\n",
              "    <tr>\n",
              "      <th rowspan=\"2\" valign=\"top\">nora</th>\n",
              "      <th>18</th>\n",
              "      <td>nora</td>\n",
              "      <td>18</td>\n",
              "    </tr>\n",
              "    <tr>\n",
              "      <th>20</th>\n",
              "      <td>nora</td>\n",
              "      <td>20</td>\n",
              "    </tr>\n",
              "    <tr>\n",
              "      <th rowspan=\"2\" valign=\"top\">will</th>\n",
              "      <th>43</th>\n",
              "      <td>will</td>\n",
              "      <td>18</td>\n",
              "    </tr>\n",
              "    <tr>\n",
              "      <th>26</th>\n",
              "      <td>will</td>\n",
              "      <td>20</td>\n",
              "    </tr>\n",
              "  </tbody>\n",
              "</table>\n",
              "</div>"
            ],
            "text/plain": [
              "             eleves  note\n",
              "eleves                   \n",
              "Anis    7      Anis    15\n",
              "        54     Anis    19\n",
              "camille 3   camille    15\n",
              "        6   camille    20\n",
              "charles 31  charles    16\n",
              "        16  charles    20\n",
              "moha    5      moha    20\n",
              "        58     moha    20\n",
              "nora    18     nora    18\n",
              "        20     nora    20\n",
              "will    43     will    18\n",
              "        26     will    20"
            ]
          },
          "metadata": {
            "tags": []
          },
          "execution_count": 42
        }
      ]
    },
    {
      "cell_type": "code",
      "metadata": {
        "id": "KSMWwVDvwF0v",
        "outputId": "c8e2cd8a-c9c0-47a8-f8aa-ec60e351b3ae",
        "colab": {
          "base_uri": "https://localhost:8080/",
          "height": 432
        }
      },
      "source": [
        "# And give default values\n",
        "\n",
        "def get_top(df,top=10,sort='note'):    \n",
        "    return df.sort_values(by=sort)[-top:]\n",
        "\n",
        "\n",
        "eleves_notes.groupby(['eleves']).apply(get_top,top=2)\n"
      ],
      "execution_count": null,
      "outputs": [
        {
          "output_type": "execute_result",
          "data": {
            "text/html": [
              "<div>\n",
              "<style scoped>\n",
              "    .dataframe tbody tr th:only-of-type {\n",
              "        vertical-align: middle;\n",
              "    }\n",
              "\n",
              "    .dataframe tbody tr th {\n",
              "        vertical-align: top;\n",
              "    }\n",
              "\n",
              "    .dataframe thead th {\n",
              "        text-align: right;\n",
              "    }\n",
              "</style>\n",
              "<table border=\"1\" class=\"dataframe\">\n",
              "  <thead>\n",
              "    <tr style=\"text-align: right;\">\n",
              "      <th></th>\n",
              "      <th></th>\n",
              "      <th>eleves</th>\n",
              "      <th>note</th>\n",
              "    </tr>\n",
              "    <tr>\n",
              "      <th>eleves</th>\n",
              "      <th></th>\n",
              "      <th></th>\n",
              "      <th></th>\n",
              "    </tr>\n",
              "  </thead>\n",
              "  <tbody>\n",
              "    <tr>\n",
              "      <th rowspan=\"2\" valign=\"top\">Anis</th>\n",
              "      <th>7</th>\n",
              "      <td>Anis</td>\n",
              "      <td>15</td>\n",
              "    </tr>\n",
              "    <tr>\n",
              "      <th>54</th>\n",
              "      <td>Anis</td>\n",
              "      <td>19</td>\n",
              "    </tr>\n",
              "    <tr>\n",
              "      <th rowspan=\"2\" valign=\"top\">camille</th>\n",
              "      <th>3</th>\n",
              "      <td>camille</td>\n",
              "      <td>15</td>\n",
              "    </tr>\n",
              "    <tr>\n",
              "      <th>6</th>\n",
              "      <td>camille</td>\n",
              "      <td>20</td>\n",
              "    </tr>\n",
              "    <tr>\n",
              "      <th rowspan=\"2\" valign=\"top\">charles</th>\n",
              "      <th>31</th>\n",
              "      <td>charles</td>\n",
              "      <td>16</td>\n",
              "    </tr>\n",
              "    <tr>\n",
              "      <th>16</th>\n",
              "      <td>charles</td>\n",
              "      <td>20</td>\n",
              "    </tr>\n",
              "    <tr>\n",
              "      <th rowspan=\"2\" valign=\"top\">moha</th>\n",
              "      <th>5</th>\n",
              "      <td>moha</td>\n",
              "      <td>20</td>\n",
              "    </tr>\n",
              "    <tr>\n",
              "      <th>58</th>\n",
              "      <td>moha</td>\n",
              "      <td>20</td>\n",
              "    </tr>\n",
              "    <tr>\n",
              "      <th rowspan=\"2\" valign=\"top\">nora</th>\n",
              "      <th>18</th>\n",
              "      <td>nora</td>\n",
              "      <td>18</td>\n",
              "    </tr>\n",
              "    <tr>\n",
              "      <th>20</th>\n",
              "      <td>nora</td>\n",
              "      <td>20</td>\n",
              "    </tr>\n",
              "    <tr>\n",
              "      <th rowspan=\"2\" valign=\"top\">will</th>\n",
              "      <th>43</th>\n",
              "      <td>will</td>\n",
              "      <td>18</td>\n",
              "    </tr>\n",
              "    <tr>\n",
              "      <th>26</th>\n",
              "      <td>will</td>\n",
              "      <td>20</td>\n",
              "    </tr>\n",
              "  </tbody>\n",
              "</table>\n",
              "</div>"
            ],
            "text/plain": [
              "             eleves  note\n",
              "eleves                   \n",
              "Anis    7      Anis    15\n",
              "        54     Anis    19\n",
              "camille 3   camille    15\n",
              "        6   camille    20\n",
              "charles 31  charles    16\n",
              "        16  charles    20\n",
              "moha    5      moha    20\n",
              "        58     moha    20\n",
              "nora    18     nora    18\n",
              "        20     nora    20\n",
              "will    43     will    18\n",
              "        26     will    20"
            ]
          },
          "metadata": {
            "tags": []
          },
          "execution_count": 40
        }
      ]
    },
    {
      "cell_type": "code",
      "metadata": {
        "id": "0FugnH5Nx5sv",
        "outputId": "bb22c4fe-6742-4ce3-f26a-c0d87e3574aa",
        "colab": {
          "base_uri": "https://localhost:8080/",
          "height": 128
        }
      },
      "source": [
        "packing / unpacking : https://deusyss.developpez.com/tutoriels/Python/args_kwargs/\n",
        "\n",
        "et\n",
        "\n",
        "keyword parameters : https://treyhunner.com/2018/04/keyword-arguments-in-python/\n"
      ],
      "execution_count": 2,
      "outputs": [
        {
          "output_type": "error",
          "ename": "SyntaxError",
          "evalue": "ignored",
          "traceback": [
            "\u001b[0;36m  File \u001b[0;32m\"<ipython-input-2-541a53420aff>\"\u001b[0;36m, line \u001b[0;32m1\u001b[0m\n\u001b[0;31m    packing / unpacking : https://deusyss.developpez.com/tutoriels/Python/args_kwargs/\u001b[0m\n\u001b[0m                               ^\u001b[0m\n\u001b[0;31mSyntaxError\u001b[0m\u001b[0;31m:\u001b[0m invalid syntax\n"
          ]
        }
      ]
    },
    {
      "cell_type": "code",
      "metadata": {
        "id": "brxvbYQiyGRU",
        "outputId": "c2a10489-34b6-45ed-8f42-2d77c2db05b3",
        "colab": {
          "base_uri": "https://localhost:8080/"
        }
      },
      "source": [
        "!pip install geopandas"
      ],
      "execution_count": 1,
      "outputs": [
        {
          "output_type": "stream",
          "text": [
            "Collecting geopandas\n",
            "\u001b[?25l  Downloading https://files.pythonhosted.org/packages/f7/a4/e66aafbefcbb717813bf3a355c8c4fc3ed04ea1dd7feb2920f2f4f868921/geopandas-0.8.1-py2.py3-none-any.whl (962kB)\n",
            "\u001b[K     |████████████████████████████████| 972kB 2.8MB/s \n",
            "\u001b[?25hCollecting pyproj>=2.2.0\n",
            "\u001b[?25l  Downloading https://files.pythonhosted.org/packages/e4/ab/280e80a67cfc109d15428c0ec56391fc03a65857b7727cf4e6e6f99a4204/pyproj-3.0.0.post1-cp36-cp36m-manylinux2010_x86_64.whl (6.4MB)\n",
            "\u001b[K     |████████████████████████████████| 6.5MB 13.9MB/s \n",
            "\u001b[?25hRequirement already satisfied: shapely in /usr/local/lib/python3.6/dist-packages (from geopandas) (1.7.1)\n",
            "Collecting fiona\n",
            "\u001b[?25l  Downloading https://files.pythonhosted.org/packages/36/8b/e8b2c11bed5373c8e98edb85ce891b09aa1f4210fd451d0fb3696b7695a2/Fiona-1.8.17-cp36-cp36m-manylinux1_x86_64.whl (14.8MB)\n",
            "\u001b[K     |████████████████████████████████| 14.8MB 301kB/s \n",
            "\u001b[?25hRequirement already satisfied: pandas>=0.23.0 in /usr/local/lib/python3.6/dist-packages (from geopandas) (1.1.4)\n",
            "Requirement already satisfied: certifi in /usr/local/lib/python3.6/dist-packages (from pyproj>=2.2.0->geopandas) (2020.6.20)\n",
            "Requirement already satisfied: click<8,>=4.0 in /usr/local/lib/python3.6/dist-packages (from fiona->geopandas) (7.1.2)\n",
            "Collecting click-plugins>=1.0\n",
            "  Downloading https://files.pythonhosted.org/packages/e9/da/824b92d9942f4e472702488857914bdd50f73021efea15b4cad9aca8ecef/click_plugins-1.1.1-py2.py3-none-any.whl\n",
            "Requirement already satisfied: six>=1.7 in /usr/local/lib/python3.6/dist-packages (from fiona->geopandas) (1.15.0)\n",
            "Collecting munch\n",
            "  Downloading https://files.pythonhosted.org/packages/cc/ab/85d8da5c9a45e072301beb37ad7f833cd344e04c817d97e0cc75681d248f/munch-2.5.0-py2.py3-none-any.whl\n",
            "Requirement already satisfied: attrs>=17 in /usr/local/lib/python3.6/dist-packages (from fiona->geopandas) (20.2.0)\n",
            "Collecting cligj>=0.5\n",
            "  Downloading https://files.pythonhosted.org/packages/ba/06/e3440b1f2dc802d35f329f299ba96153e9fcbfdef75e17f4b61f79430c6a/cligj-0.7.0-py3-none-any.whl\n",
            "Requirement already satisfied: python-dateutil>=2.7.3 in /usr/local/lib/python3.6/dist-packages (from pandas>=0.23.0->geopandas) (2.8.1)\n",
            "Requirement already satisfied: pytz>=2017.2 in /usr/local/lib/python3.6/dist-packages (from pandas>=0.23.0->geopandas) (2018.9)\n",
            "Requirement already satisfied: numpy>=1.15.4 in /usr/local/lib/python3.6/dist-packages (from pandas>=0.23.0->geopandas) (1.18.5)\n",
            "Installing collected packages: pyproj, click-plugins, munch, cligj, fiona, geopandas\n",
            "Successfully installed click-plugins-1.1.1 cligj-0.7.0 fiona-1.8.17 geopandas-0.8.1 munch-2.5.0 pyproj-3.0.0.post1\n"
          ],
          "name": "stdout"
        }
      ]
    },
    {
      "cell_type": "code",
      "metadata": {
        "id": "FMspUTCWyU-O"
      },
      "source": [
        "import geopandas as gpd"
      ],
      "execution_count": 2,
      "outputs": []
    },
    {
      "cell_type": "code",
      "metadata": {
        "id": "JyXCLp71ynwH",
        "outputId": "81d080bb-c7a1-42c9-f9d4-931a5954ec6f",
        "colab": {
          "base_uri": "https://localhost:8080/",
          "height": 195
        }
      },
      "source": [
        "map_df= gpd.read_file('https://www.data.gouv.fr/fr/datasets/r/6e53bca5-1153-49d4-bff5-dd69f39369b5')\n",
        "map_df.head()"
      ],
      "execution_count": 3,
      "outputs": [
        {
          "output_type": "execute_result",
          "data": {
            "text/html": [
              "<div>\n",
              "<style scoped>\n",
              "    .dataframe tbody tr th:only-of-type {\n",
              "        vertical-align: middle;\n",
              "    }\n",
              "\n",
              "    .dataframe tbody tr th {\n",
              "        vertical-align: top;\n",
              "    }\n",
              "\n",
              "    .dataframe thead th {\n",
              "        text-align: right;\n",
              "    }\n",
              "</style>\n",
              "<table border=\"1\" class=\"dataframe\">\n",
              "  <thead>\n",
              "    <tr style=\"text-align: right;\">\n",
              "      <th></th>\n",
              "      <th>code_insee</th>\n",
              "      <th>nom</th>\n",
              "      <th>nuts3</th>\n",
              "      <th>wikipedia</th>\n",
              "      <th>geometry</th>\n",
              "    </tr>\n",
              "  </thead>\n",
              "  <tbody>\n",
              "    <tr>\n",
              "      <th>0</th>\n",
              "      <td>01</td>\n",
              "      <td>Ain</td>\n",
              "      <td>FR711</td>\n",
              "      <td>b'fr:Ain (d\\xe9partement)'</td>\n",
              "      <td>POLYGON ((5.25559 45.78459, 5.23987 45.77758, ...</td>\n",
              "    </tr>\n",
              "    <tr>\n",
              "      <th>1</th>\n",
              "      <td>02</td>\n",
              "      <td>Aisne</td>\n",
              "      <td>FR221</td>\n",
              "      <td>b'fr:Aisne (d\\xe9partement)'</td>\n",
              "      <td>POLYGON ((3.48175 48.86640, 3.48647 48.85768, ...</td>\n",
              "    </tr>\n",
              "    <tr>\n",
              "      <th>2</th>\n",
              "      <td>03</td>\n",
              "      <td>Allier</td>\n",
              "      <td>FR721</td>\n",
              "      <td>b'fr:Allier (d\\xe9partement)'</td>\n",
              "      <td>POLYGON ((2.38613 46.33196, 2.38407 46.33112, ...</td>\n",
              "    </tr>\n",
              "    <tr>\n",
              "      <th>3</th>\n",
              "      <td>04</td>\n",
              "      <td>Alpes-de-Haute-Provence</td>\n",
              "      <td>FR821</td>\n",
              "      <td>fr:Alpes-de-Haute-Provence</td>\n",
              "      <td>POLYGON ((6.66579 43.83120, 6.67673 43.83178, ...</td>\n",
              "    </tr>\n",
              "    <tr>\n",
              "      <th>4</th>\n",
              "      <td>05</td>\n",
              "      <td>Hautes-Alpes</td>\n",
              "      <td>FR822</td>\n",
              "      <td>fr:Hautes-Alpes</td>\n",
              "      <td>POLYGON ((6.24158 44.44686, 6.24411 44.44693, ...</td>\n",
              "    </tr>\n",
              "  </tbody>\n",
              "</table>\n",
              "</div>"
            ],
            "text/plain": [
              "  code_insee  ...                                           geometry\n",
              "0         01  ...  POLYGON ((5.25559 45.78459, 5.23987 45.77758, ...\n",
              "1         02  ...  POLYGON ((3.48175 48.86640, 3.48647 48.85768, ...\n",
              "2         03  ...  POLYGON ((2.38613 46.33196, 2.38407 46.33112, ...\n",
              "3         04  ...  POLYGON ((6.66579 43.83120, 6.67673 43.83178, ...\n",
              "4         05  ...  POLYGON ((6.24158 44.44686, 6.24411 44.44693, ...\n",
              "\n",
              "[5 rows x 5 columns]"
            ]
          },
          "metadata": {
            "tags": []
          },
          "execution_count": 3
        }
      ]
    },
    {
      "cell_type": "code",
      "metadata": {
        "id": "N2ToPgb-ziXr",
        "outputId": "29ac48f8-4bb8-4664-afa9-0c09ac682f49",
        "colab": {
          "base_uri": "https://localhost:8080/",
          "height": 278
        }
      },
      "source": [
        "import matplotlib.pyplot as plt\n",
        "%matplotlib inline\n",
        "map_df.plot()"
      ],
      "execution_count": 4,
      "outputs": [
        {
          "output_type": "execute_result",
          "data": {
            "text/plain": [
              "<matplotlib.axes._subplots.AxesSubplot at 0x7f2d7fecfb70>"
            ]
          },
          "metadata": {
            "tags": []
          },
          "execution_count": 4
        },
        {
          "output_type": "display_data",
          "data": {
            "image/png": "[encoded data removed]",
            "text/plain": [
              "<Figure size 432x288 with 1 Axes>"
            ]
          },
          "metadata": {
            "tags": [],
            "needs_background": "light"
          }
        }
      ]
    },
    {
      "cell_type": "code",
      "metadata": {
        "id": "72YQQSI30edC",
        "outputId": "81d31e5a-baed-4a52-b2f1-1f28be620a11",
        "colab": {
          "base_uri": "https://localhost:8080/"
        }
      },
      "source": [
        "pip install descartes"
      ],
      "execution_count": 5,
      "outputs": [
        {
          "output_type": "stream",
          "text": [
            "Requirement already satisfied: descartes in /usr/local/lib/python3.6/dist-packages (1.1.0)\n",
            "Requirement already satisfied: matplotlib in /usr/local/lib/python3.6/dist-packages (from descartes) (3.2.2)\n",
            "Requirement already satisfied: kiwisolver>=1.0.1 in /usr/local/lib/python3.6/dist-packages (from matplotlib->descartes) (1.3.1)\n",
            "Requirement already satisfied: numpy>=1.11 in /usr/local/lib/python3.6/dist-packages (from matplotlib->descartes) (1.18.5)\n",
            "Requirement already satisfied: python-dateutil>=2.1 in /usr/local/lib/python3.6/dist-packages (from matplotlib->descartes) (2.8.1)\n",
            "Requirement already satisfied: pyparsing!=2.0.4,!=2.1.2,!=2.1.6,>=2.0.1 in /usr/local/lib/python3.6/dist-packages (from matplotlib->descartes) (2.4.7)\n",
            "Requirement already satisfied: cycler>=0.10 in /usr/local/lib/python3.6/dist-packages (from matplotlib->descartes) (0.10.0)\n",
            "Requirement already satisfied: six>=1.5 in /usr/local/lib/python3.6/dist-packages (from python-dateutil>=2.1->matplotlib->descartes) (1.15.0)\n"
          ],
          "name": "stdout"
        }
      ]
    },
    {
      "cell_type": "code",
      "metadata": {
        "id": "9at2de3Y4MnF",
        "outputId": "f04e0635-6e45-4286-cc96-1a8ef00dda39",
        "colab": {
          "base_uri": "https://localhost:8080/",
          "height": 402
        }
      },
      "source": [
        "map_df[map_df.code_insee.str.contains(\"\\d\\d\\d\")==False]"
      ],
      "execution_count": 6,
      "outputs": [
        {
          "output_type": "execute_result",
          "data": {
            "text/html": [
              "<div>\n",
              "<style scoped>\n",
              "    .dataframe tbody tr th:only-of-type {\n",
              "        vertical-align: middle;\n",
              "    }\n",
              "\n",
              "    .dataframe tbody tr th {\n",
              "        vertical-align: top;\n",
              "    }\n",
              "\n",
              "    .dataframe thead th {\n",
              "        text-align: right;\n",
              "    }\n",
              "</style>\n",
              "<table border=\"1\" class=\"dataframe\">\n",
              "  <thead>\n",
              "    <tr style=\"text-align: right;\">\n",
              "      <th></th>\n",
              "      <th>code_insee</th>\n",
              "      <th>nom</th>\n",
              "      <th>nuts3</th>\n",
              "      <th>wikipedia</th>\n",
              "      <th>geometry</th>\n",
              "    </tr>\n",
              "  </thead>\n",
              "  <tbody>\n",
              "    <tr>\n",
              "      <th>0</th>\n",
              "      <td>01</td>\n",
              "      <td>Ain</td>\n",
              "      <td>FR711</td>\n",
              "      <td>b'fr:Ain (d\\xe9partement)'</td>\n",
              "      <td>POLYGON ((5.25559 45.78459, 5.23987 45.77758, ...</td>\n",
              "    </tr>\n",
              "    <tr>\n",
              "      <th>1</th>\n",
              "      <td>02</td>\n",
              "      <td>Aisne</td>\n",
              "      <td>FR221</td>\n",
              "      <td>b'fr:Aisne (d\\xe9partement)'</td>\n",
              "      <td>POLYGON ((3.48175 48.86640, 3.48647 48.85768, ...</td>\n",
              "    </tr>\n",
              "    <tr>\n",
              "      <th>2</th>\n",
              "      <td>03</td>\n",
              "      <td>Allier</td>\n",
              "      <td>FR721</td>\n",
              "      <td>b'fr:Allier (d\\xe9partement)'</td>\n",
              "      <td>POLYGON ((2.38613 46.33196, 2.38407 46.33112, ...</td>\n",
              "    </tr>\n",
              "    <tr>\n",
              "      <th>3</th>\n",
              "      <td>04</td>\n",
              "      <td>Alpes-de-Haute-Provence</td>\n",
              "      <td>FR821</td>\n",
              "      <td>fr:Alpes-de-Haute-Provence</td>\n",
              "      <td>POLYGON ((6.66579 43.83120, 6.67673 43.83178, ...</td>\n",
              "    </tr>\n",
              "    <tr>\n",
              "      <th>4</th>\n",
              "      <td>05</td>\n",
              "      <td>Hautes-Alpes</td>\n",
              "      <td>FR822</td>\n",
              "      <td>fr:Hautes-Alpes</td>\n",
              "      <td>POLYGON ((6.24158 44.44686, 6.24411 44.44693, ...</td>\n",
              "    </tr>\n",
              "    <tr>\n",
              "      <th>...</th>\n",
              "      <td>...</td>\n",
              "      <td>...</td>\n",
              "      <td>...</td>\n",
              "      <td>...</td>\n",
              "      <td>...</td>\n",
              "    </tr>\n",
              "    <tr>\n",
              "      <th>91</th>\n",
              "      <td>91</td>\n",
              "      <td>Essonne</td>\n",
              "      <td>FR104</td>\n",
              "      <td>b'fr:Essonne (d\\xe9partement)'</td>\n",
              "      <td>POLYGON ((2.39233 48.33593, 2.39427 48.33263, ...</td>\n",
              "    </tr>\n",
              "    <tr>\n",
              "      <th>92</th>\n",
              "      <td>92</td>\n",
              "      <td>Hauts-de-Seine</td>\n",
              "      <td>FR105</td>\n",
              "      <td>fr:Hauts-de-Seine</td>\n",
              "      <td>POLYGON ((2.31993 48.77075, 2.31588 48.76670, ...</td>\n",
              "    </tr>\n",
              "    <tr>\n",
              "      <th>93</th>\n",
              "      <td>93</td>\n",
              "      <td>Seine-Saint-Denis</td>\n",
              "      <td>FR106</td>\n",
              "      <td>fr:Seine-Saint-Denis</td>\n",
              "      <td>POLYGON ((2.41899 48.84939, 2.41636 48.84924, ...</td>\n",
              "    </tr>\n",
              "    <tr>\n",
              "      <th>94</th>\n",
              "      <td>94</td>\n",
              "      <td>Val-de-Marne</td>\n",
              "      <td>FR107</td>\n",
              "      <td>fr:Val-de-Marne</td>\n",
              "      <td>POLYGON ((2.41450 48.71780, 2.41320 48.71868, ...</td>\n",
              "    </tr>\n",
              "    <tr>\n",
              "      <th>95</th>\n",
              "      <td>95</td>\n",
              "      <td>Val-d'Oise</td>\n",
              "      <td>FR108</td>\n",
              "      <td>fr:Val-d'Oise</td>\n",
              "      <td>POLYGON ((1.79674 49.07196, 1.79991 49.06425, ...</td>\n",
              "    </tr>\n",
              "  </tbody>\n",
              "</table>\n",
              "<p>96 rows × 5 columns</p>\n",
              "</div>"
            ],
            "text/plain": [
              "   code_insee  ...                                           geometry\n",
              "0          01  ...  POLYGON ((5.25559 45.78459, 5.23987 45.77758, ...\n",
              "1          02  ...  POLYGON ((3.48175 48.86640, 3.48647 48.85768, ...\n",
              "2          03  ...  POLYGON ((2.38613 46.33196, 2.38407 46.33112, ...\n",
              "3          04  ...  POLYGON ((6.66579 43.83120, 6.67673 43.83178, ...\n",
              "4          05  ...  POLYGON ((6.24158 44.44686, 6.24411 44.44693, ...\n",
              "..        ...  ...                                                ...\n",
              "91         91  ...  POLYGON ((2.39233 48.33593, 2.39427 48.33263, ...\n",
              "92         92  ...  POLYGON ((2.31993 48.77075, 2.31588 48.76670, ...\n",
              "93         93  ...  POLYGON ((2.41899 48.84939, 2.41636 48.84924, ...\n",
              "94         94  ...  POLYGON ((2.41450 48.71780, 2.41320 48.71868, ...\n",
              "95         95  ...  POLYGON ((1.79674 49.07196, 1.79991 49.06425, ...\n",
              "\n",
              "[96 rows x 5 columns]"
            ]
          },
          "metadata": {
            "tags": []
          },
          "execution_count": 6
        }
      ]
    },
    {
      "cell_type": "code",
      "metadata": {
        "id": "VGdrB2Vd4SqT"
      },
      "source": [
        "map_df = map_df[map_df.code_insee.str.contains(\"\\d\\d\\d\")==False]"
      ],
      "execution_count": 7,
      "outputs": []
    },
    {
      "cell_type": "code",
      "metadata": {
        "id": "gLEjowSp00tj",
        "outputId": "79a114b0-c98c-44e0-bc7c-ca6f8f8fb5bd",
        "colab": {
          "base_uri": "https://localhost:8080/",
          "height": 128
        }
      },
      "source": [
        "map_df(=map_df[ma])"
      ],
      "execution_count": 8,
      "outputs": [
        {
          "output_type": "error",
          "ename": "SyntaxError",
          "evalue": "ignored",
          "traceback": [
            "\u001b[0;36m  File \u001b[0;32m\"<ipython-input-8-b11c3dbfe017>\"\u001b[0;36m, line \u001b[0;32m1\u001b[0m\n\u001b[0;31m    map_df(=map_df[ma])\u001b[0m\n\u001b[0m           ^\u001b[0m\n\u001b[0;31mSyntaxError\u001b[0m\u001b[0;31m:\u001b[0m invalid syntax\n"
          ]
        }
      ]
    },
    {
      "cell_type": "code",
      "metadata": {
        "id": "aI5oEPnR4Wax",
        "outputId": "cb661801-fb56-43c3-85e8-ad041951cb6c",
        "colab": {
          "base_uri": "https://localhost:8080/",
          "height": 282
        }
      },
      "source": [
        "map_df.plot()"
      ],
      "execution_count": 9,
      "outputs": [
        {
          "output_type": "execute_result",
          "data": {
            "text/plain": [
              "<matplotlib.axes._subplots.AxesSubplot at 0x7f2d7fe33390>"
            ]
          },
          "metadata": {
            "tags": []
          },
          "execution_count": 9
        },
        {
          "output_type": "display_data",
          "data": {
            "image/png": "[encoded data removed]",
            "text/plain": [
              "<Figure size 432x288 with 1 Axes>"
            ]
          },
          "metadata": {
            "tags": [],
            "needs_background": "light"
          }
        }
      ]
    },
    {
      "cell_type": "code",
      "metadata": {
        "id": "Jl3TF61b4mtg",
        "outputId": "abb54450-ef2c-4b3c-f6b9-24575c5c2d11",
        "colab": {
          "base_uri": "https://localhost:8080/",
          "height": 402
        }
      },
      "source": [
        "file_name='https://www.insee.fr/fr/statistiques/fichier/2540004/dpt2019_csv.zip'\n",
        "prenoms= pd.read_csv(file_name,sep=\";\")\n",
        "prenoms"
      ],
      "execution_count": 14,
      "outputs": [
        {
          "output_type": "execute_result",
          "data": {
            "text/html": [
              "<div>\n",
              "<style scoped>\n",
              "    .dataframe tbody tr th:only-of-type {\n",
              "        vertical-align: middle;\n",
              "    }\n",
              "\n",
              "    .dataframe tbody tr th {\n",
              "        vertical-align: top;\n",
              "    }\n",
              "\n",
              "    .dataframe thead th {\n",
              "        text-align: right;\n",
              "    }\n",
              "</style>\n",
              "<table border=\"1\" class=\"dataframe\">\n",
              "  <thead>\n",
              "    <tr style=\"text-align: right;\">\n",
              "      <th></th>\n",
              "      <th>sexe</th>\n",
              "      <th>preusuel</th>\n",
              "      <th>annais</th>\n",
              "      <th>dpt</th>\n",
              "      <th>nombre</th>\n",
              "    </tr>\n",
              "  </thead>\n",
              "  <tbody>\n",
              "    <tr>\n",
              "      <th>0</th>\n",
              "      <td>1</td>\n",
              "      <td>_PRENOMS_RARES</td>\n",
              "      <td>1900</td>\n",
              "      <td>02</td>\n",
              "      <td>7</td>\n",
              "    </tr>\n",
              "    <tr>\n",
              "      <th>1</th>\n",
              "      <td>1</td>\n",
              "      <td>_PRENOMS_RARES</td>\n",
              "      <td>1900</td>\n",
              "      <td>04</td>\n",
              "      <td>9</td>\n",
              "    </tr>\n",
              "    <tr>\n",
              "      <th>2</th>\n",
              "      <td>1</td>\n",
              "      <td>_PRENOMS_RARES</td>\n",
              "      <td>1900</td>\n",
              "      <td>05</td>\n",
              "      <td>8</td>\n",
              "    </tr>\n",
              "    <tr>\n",
              "      <th>3</th>\n",
              "      <td>1</td>\n",
              "      <td>_PRENOMS_RARES</td>\n",
              "      <td>1900</td>\n",
              "      <td>06</td>\n",
              "      <td>23</td>\n",
              "    </tr>\n",
              "    <tr>\n",
              "      <th>4</th>\n",
              "      <td>1</td>\n",
              "      <td>_PRENOMS_RARES</td>\n",
              "      <td>1900</td>\n",
              "      <td>07</td>\n",
              "      <td>9</td>\n",
              "    </tr>\n",
              "    <tr>\n",
              "      <th>...</th>\n",
              "      <td>...</td>\n",
              "      <td>...</td>\n",
              "      <td>...</td>\n",
              "      <td>...</td>\n",
              "      <td>...</td>\n",
              "    </tr>\n",
              "    <tr>\n",
              "      <th>3676677</th>\n",
              "      <td>2</td>\n",
              "      <td>ZYA</td>\n",
              "      <td>2018</td>\n",
              "      <td>59</td>\n",
              "      <td>3</td>\n",
              "    </tr>\n",
              "    <tr>\n",
              "      <th>3676678</th>\n",
              "      <td>2</td>\n",
              "      <td>ZYA</td>\n",
              "      <td>XXXX</td>\n",
              "      <td>XX</td>\n",
              "      <td>252</td>\n",
              "    </tr>\n",
              "    <tr>\n",
              "      <th>3676679</th>\n",
              "      <td>2</td>\n",
              "      <td>ZYNA</td>\n",
              "      <td>2013</td>\n",
              "      <td>93</td>\n",
              "      <td>3</td>\n",
              "    </tr>\n",
              "    <tr>\n",
              "      <th>3676680</th>\n",
              "      <td>2</td>\n",
              "      <td>ZYNA</td>\n",
              "      <td>XXXX</td>\n",
              "      <td>XX</td>\n",
              "      <td>54</td>\n",
              "    </tr>\n",
              "    <tr>\n",
              "      <th>3676681</th>\n",
              "      <td>2</td>\n",
              "      <td>ZYNEB</td>\n",
              "      <td>XXXX</td>\n",
              "      <td>XX</td>\n",
              "      <td>111</td>\n",
              "    </tr>\n",
              "  </tbody>\n",
              "</table>\n",
              "<p>3676682 rows × 5 columns</p>\n",
              "</div>"
            ],
            "text/plain": [
              "         sexe        preusuel annais dpt  nombre\n",
              "0           1  _PRENOMS_RARES   1900  02       7\n",
              "1           1  _PRENOMS_RARES   1900  04       9\n",
              "2           1  _PRENOMS_RARES   1900  05       8\n",
              "3           1  _PRENOMS_RARES   1900  06      23\n",
              "4           1  _PRENOMS_RARES   1900  07       9\n",
              "...       ...             ...    ...  ..     ...\n",
              "3676677     2             ZYA   2018  59       3\n",
              "3676678     2             ZYA   XXXX  XX     252\n",
              "3676679     2            ZYNA   2013  93       3\n",
              "3676680     2            ZYNA   XXXX  XX      54\n",
              "3676681     2           ZYNEB   XXXX  XX     111\n",
              "\n",
              "[3676682 rows x 5 columns]"
            ]
          },
          "metadata": {
            "tags": []
          },
          "execution_count": 14
        }
      ]
    },
    {
      "cell_type": "code",
      "metadata": {
        "id": "OtrkobRY4q5U",
        "outputId": "17d4390a-7002-480e-cc10-4a771de9ec37",
        "colab": {
          "base_uri": "https://localhost:8080/"
        }
      },
      "source": [
        "dpt_sum=prenoms.groupby(\"dpt\").nombre.sum()\n",
        "dpt_sum"
      ],
      "execution_count": 15,
      "outputs": [
        {
          "output_type": "execute_result",
          "data": {
            "text/plain": [
              "dpt\n",
              "01      440132\n",
              "02      845825\n",
              "03      500158\n",
              "04      106020\n",
              "05      126691\n",
              "        ...   \n",
              "971     643111\n",
              "972     639827\n",
              "973     174634\n",
              "974    1201566\n",
              "XX     8465506\n",
              "Name: nombre, Length: 100, dtype: int64"
            ]
          },
          "metadata": {
            "tags": []
          },
          "execution_count": 15
        }
      ]
    },
    {
      "cell_type": "code",
      "metadata": {
        "id": "AK1esU0E5pc0",
        "outputId": "afc00894-5295-41f7-e928-abaab829a580",
        "colab": {
          "base_uri": "https://localhost:8080/"
        }
      },
      "source": [
        "type(dpt_sum)"
      ],
      "execution_count": 16,
      "outputs": [
        {
          "output_type": "execute_result",
          "data": {
            "text/plain": [
              "pandas.core.series.Series"
            ]
          },
          "metadata": {
            "tags": []
          },
          "execution_count": 16
        }
      ]
    },
    {
      "cell_type": "code",
      "metadata": {
        "id": "xpGGnEOW6X97",
        "outputId": "650b6730-8239-469c-893e-67b6f8a3acaf",
        "colab": {
          "base_uri": "https://localhost:8080/",
          "height": 402
        }
      },
      "source": [
        "dpt_sum=dpt_sum.reset_index()\n",
        "dpt_sum"
      ],
      "execution_count": 17,
      "outputs": [
        {
          "output_type": "execute_result",
          "data": {
            "text/html": [
              "<div>\n",
              "<style scoped>\n",
              "    .dataframe tbody tr th:only-of-type {\n",
              "        vertical-align: middle;\n",
              "    }\n",
              "\n",
              "    .dataframe tbody tr th {\n",
              "        vertical-align: top;\n",
              "    }\n",
              "\n",
              "    .dataframe thead th {\n",
              "        text-align: right;\n",
              "    }\n",
              "</style>\n",
              "<table border=\"1\" class=\"dataframe\">\n",
              "  <thead>\n",
              "    <tr style=\"text-align: right;\">\n",
              "      <th></th>\n",
              "      <th>dpt</th>\n",
              "      <th>nombre</th>\n",
              "    </tr>\n",
              "  </thead>\n",
              "  <tbody>\n",
              "    <tr>\n",
              "      <th>0</th>\n",
              "      <td>01</td>\n",
              "      <td>440132</td>\n",
              "    </tr>\n",
              "    <tr>\n",
              "      <th>1</th>\n",
              "      <td>02</td>\n",
              "      <td>845825</td>\n",
              "    </tr>\n",
              "    <tr>\n",
              "      <th>2</th>\n",
              "      <td>03</td>\n",
              "      <td>500158</td>\n",
              "    </tr>\n",
              "    <tr>\n",
              "      <th>3</th>\n",
              "      <td>04</td>\n",
              "      <td>106020</td>\n",
              "    </tr>\n",
              "    <tr>\n",
              "      <th>4</th>\n",
              "      <td>05</td>\n",
              "      <td>126691</td>\n",
              "    </tr>\n",
              "    <tr>\n",
              "      <th>...</th>\n",
              "      <td>...</td>\n",
              "      <td>...</td>\n",
              "    </tr>\n",
              "    <tr>\n",
              "      <th>95</th>\n",
              "      <td>971</td>\n",
              "      <td>643111</td>\n",
              "    </tr>\n",
              "    <tr>\n",
              "      <th>96</th>\n",
              "      <td>972</td>\n",
              "      <td>639827</td>\n",
              "    </tr>\n",
              "    <tr>\n",
              "      <th>97</th>\n",
              "      <td>973</td>\n",
              "      <td>174634</td>\n",
              "    </tr>\n",
              "    <tr>\n",
              "      <th>98</th>\n",
              "      <td>974</td>\n",
              "      <td>1201566</td>\n",
              "    </tr>\n",
              "    <tr>\n",
              "      <th>99</th>\n",
              "      <td>XX</td>\n",
              "      <td>8465506</td>\n",
              "    </tr>\n",
              "  </tbody>\n",
              "</table>\n",
              "<p>100 rows × 2 columns</p>\n",
              "</div>"
            ],
            "text/plain": [
              "    dpt   nombre\n",
              "0    01   440132\n",
              "1    02   845825\n",
              "2    03   500158\n",
              "3    04   106020\n",
              "4    05   126691\n",
              "..  ...      ...\n",
              "95  971   643111\n",
              "96  972   639827\n",
              "97  973   174634\n",
              "98  974  1201566\n",
              "99   XX  8465506\n",
              "\n",
              "[100 rows x 2 columns]"
            ]
          },
          "metadata": {
            "tags": []
          },
          "execution_count": 17
        }
      ]
    },
    {
      "cell_type": "code",
      "metadata": {
        "id": "vf_A0s4n6e7v",
        "outputId": "b538e7d2-50d6-4723-d72d-7b927736bbc0",
        "colab": {
          "base_uri": "https://localhost:8080/"
        }
      },
      "source": [
        "type(dpt_sum)"
      ],
      "execution_count": 18,
      "outputs": [
        {
          "output_type": "execute_result",
          "data": {
            "text/plain": [
              "pandas.core.frame.DataFrame"
            ]
          },
          "metadata": {
            "tags": []
          },
          "execution_count": 18
        }
      ]
    },
    {
      "cell_type": "code",
      "metadata": {
        "id": "HYvVSG8u6_aP"
      },
      "source": [
        "dpt_sum[\"code_insee\"]=dpt_sum.dpt"
      ],
      "execution_count": 19,
      "outputs": []
    },
    {
      "cell_type": "code",
      "metadata": {
        "id": "XhXGtElH7IEO",
        "outputId": "89239825-0317-4483-bb1e-324eaaf5647d",
        "colab": {
          "base_uri": "https://localhost:8080/",
          "height": 402
        }
      },
      "source": [
        "dpt_sum"
      ],
      "execution_count": 20,
      "outputs": [
        {
          "output_type": "execute_result",
          "data": {
            "text/html": [
              "<div>\n",
              "<style scoped>\n",
              "    .dataframe tbody tr th:only-of-type {\n",
              "        vertical-align: middle;\n",
              "    }\n",
              "\n",
              "    .dataframe tbody tr th {\n",
              "        vertical-align: top;\n",
              "    }\n",
              "\n",
              "    .dataframe thead th {\n",
              "        text-align: right;\n",
              "    }\n",
              "</style>\n",
              "<table border=\"1\" class=\"dataframe\">\n",
              "  <thead>\n",
              "    <tr style=\"text-align: right;\">\n",
              "      <th></th>\n",
              "      <th>dpt</th>\n",
              "      <th>nombre</th>\n",
              "      <th>code_insee</th>\n",
              "    </tr>\n",
              "  </thead>\n",
              "  <tbody>\n",
              "    <tr>\n",
              "      <th>0</th>\n",
              "      <td>01</td>\n",
              "      <td>440132</td>\n",
              "      <td>01</td>\n",
              "    </tr>\n",
              "    <tr>\n",
              "      <th>1</th>\n",
              "      <td>02</td>\n",
              "      <td>845825</td>\n",
              "      <td>02</td>\n",
              "    </tr>\n",
              "    <tr>\n",
              "      <th>2</th>\n",
              "      <td>03</td>\n",
              "      <td>500158</td>\n",
              "      <td>03</td>\n",
              "    </tr>\n",
              "    <tr>\n",
              "      <th>3</th>\n",
              "      <td>04</td>\n",
              "      <td>106020</td>\n",
              "      <td>04</td>\n",
              "    </tr>\n",
              "    <tr>\n",
              "      <th>4</th>\n",
              "      <td>05</td>\n",
              "      <td>126691</td>\n",
              "      <td>05</td>\n",
              "    </tr>\n",
              "    <tr>\n",
              "      <th>...</th>\n",
              "      <td>...</td>\n",
              "      <td>...</td>\n",
              "      <td>...</td>\n",
              "    </tr>\n",
              "    <tr>\n",
              "      <th>95</th>\n",
              "      <td>971</td>\n",
              "      <td>643111</td>\n",
              "      <td>971</td>\n",
              "    </tr>\n",
              "    <tr>\n",
              "      <th>96</th>\n",
              "      <td>972</td>\n",
              "      <td>639827</td>\n",
              "      <td>972</td>\n",
              "    </tr>\n",
              "    <tr>\n",
              "      <th>97</th>\n",
              "      <td>973</td>\n",
              "      <td>174634</td>\n",
              "      <td>973</td>\n",
              "    </tr>\n",
              "    <tr>\n",
              "      <th>98</th>\n",
              "      <td>974</td>\n",
              "      <td>1201566</td>\n",
              "      <td>974</td>\n",
              "    </tr>\n",
              "    <tr>\n",
              "      <th>99</th>\n",
              "      <td>XX</td>\n",
              "      <td>8465506</td>\n",
              "      <td>XX</td>\n",
              "    </tr>\n",
              "  </tbody>\n",
              "</table>\n",
              "<p>100 rows × 3 columns</p>\n",
              "</div>"
            ],
            "text/plain": [
              "    dpt   nombre code_insee\n",
              "0    01   440132         01\n",
              "1    02   845825         02\n",
              "2    03   500158         03\n",
              "3    04   106020         04\n",
              "4    05   126691         05\n",
              "..  ...      ...        ...\n",
              "95  971   643111        971\n",
              "96  972   639827        972\n",
              "97  973   174634        973\n",
              "98  974  1201566        974\n",
              "99   XX  8465506         XX\n",
              "\n",
              "[100 rows x 3 columns]"
            ]
          },
          "metadata": {
            "tags": []
          },
          "execution_count": 20
        }
      ]
    },
    {
      "cell_type": "code",
      "metadata": {
        "id": "fsnH2qB_7Kmo",
        "outputId": "275ebf25-4966-4145-9e06-eaf0d746ee79",
        "colab": {
          "base_uri": "https://localhost:8080/",
          "height": 402
        }
      },
      "source": [
        "merged=map_df.merge(dpt_sum, on='code_insee')\n",
        "merged.head()\n",
        "merged"
      ],
      "execution_count": 21,
      "outputs": [
        {
          "output_type": "execute_result",
          "data": {
            "text/html": [
              "<div>\n",
              "<style scoped>\n",
              "    .dataframe tbody tr th:only-of-type {\n",
              "        vertical-align: middle;\n",
              "    }\n",
              "\n",
              "    .dataframe tbody tr th {\n",
              "        vertical-align: top;\n",
              "    }\n",
              "\n",
              "    .dataframe thead th {\n",
              "        text-align: right;\n",
              "    }\n",
              "</style>\n",
              "<table border=\"1\" class=\"dataframe\">\n",
              "  <thead>\n",
              "    <tr style=\"text-align: right;\">\n",
              "      <th></th>\n",
              "      <th>code_insee</th>\n",
              "      <th>nom</th>\n",
              "      <th>nuts3</th>\n",
              "      <th>wikipedia</th>\n",
              "      <th>geometry</th>\n",
              "      <th>dpt</th>\n",
              "      <th>nombre</th>\n",
              "    </tr>\n",
              "  </thead>\n",
              "  <tbody>\n",
              "    <tr>\n",
              "      <th>0</th>\n",
              "      <td>01</td>\n",
              "      <td>Ain</td>\n",
              "      <td>FR711</td>\n",
              "      <td>b'fr:Ain (d\\xe9partement)'</td>\n",
              "      <td>POLYGON ((5.25559 45.78459, 5.23987 45.77758, ...</td>\n",
              "      <td>01</td>\n",
              "      <td>440132</td>\n",
              "    </tr>\n",
              "    <tr>\n",
              "      <th>1</th>\n",
              "      <td>02</td>\n",
              "      <td>Aisne</td>\n",
              "      <td>FR221</td>\n",
              "      <td>b'fr:Aisne (d\\xe9partement)'</td>\n",
              "      <td>POLYGON ((3.48175 48.86640, 3.48647 48.85768, ...</td>\n",
              "      <td>02</td>\n",
              "      <td>845825</td>\n",
              "    </tr>\n",
              "    <tr>\n",
              "      <th>2</th>\n",
              "      <td>03</td>\n",
              "      <td>Allier</td>\n",
              "      <td>FR721</td>\n",
              "      <td>b'fr:Allier (d\\xe9partement)'</td>\n",
              "      <td>POLYGON ((2.38613 46.33196, 2.38407 46.33112, ...</td>\n",
              "      <td>03</td>\n",
              "      <td>500158</td>\n",
              "    </tr>\n",
              "    <tr>\n",
              "      <th>3</th>\n",
              "      <td>04</td>\n",
              "      <td>Alpes-de-Haute-Provence</td>\n",
              "      <td>FR821</td>\n",
              "      <td>fr:Alpes-de-Haute-Provence</td>\n",
              "      <td>POLYGON ((6.66579 43.83120, 6.67673 43.83178, ...</td>\n",
              "      <td>04</td>\n",
              "      <td>106020</td>\n",
              "    </tr>\n",
              "    <tr>\n",
              "      <th>4</th>\n",
              "      <td>05</td>\n",
              "      <td>Hautes-Alpes</td>\n",
              "      <td>FR822</td>\n",
              "      <td>fr:Hautes-Alpes</td>\n",
              "      <td>POLYGON ((6.24158 44.44686, 6.24411 44.44693, ...</td>\n",
              "      <td>05</td>\n",
              "      <td>126691</td>\n",
              "    </tr>\n",
              "    <tr>\n",
              "      <th>...</th>\n",
              "      <td>...</td>\n",
              "      <td>...</td>\n",
              "      <td>...</td>\n",
              "      <td>...</td>\n",
              "      <td>...</td>\n",
              "      <td>...</td>\n",
              "      <td>...</td>\n",
              "    </tr>\n",
              "    <tr>\n",
              "      <th>89</th>\n",
              "      <td>91</td>\n",
              "      <td>Essonne</td>\n",
              "      <td>FR104</td>\n",
              "      <td>b'fr:Essonne (d\\xe9partement)'</td>\n",
              "      <td>POLYGON ((2.39233 48.33593, 2.39427 48.33263, ...</td>\n",
              "      <td>91</td>\n",
              "      <td>582907</td>\n",
              "    </tr>\n",
              "    <tr>\n",
              "      <th>90</th>\n",
              "      <td>92</td>\n",
              "      <td>Hauts-de-Seine</td>\n",
              "      <td>FR105</td>\n",
              "      <td>fr:Hauts-de-Seine</td>\n",
              "      <td>POLYGON ((2.31993 48.77075, 2.31588 48.76670, ...</td>\n",
              "      <td>92</td>\n",
              "      <td>1174101</td>\n",
              "    </tr>\n",
              "    <tr>\n",
              "      <th>91</th>\n",
              "      <td>93</td>\n",
              "      <td>Seine-Saint-Denis</td>\n",
              "      <td>FR106</td>\n",
              "      <td>fr:Seine-Saint-Denis</td>\n",
              "      <td>POLYGON ((2.41899 48.84939, 2.41636 48.84924, ...</td>\n",
              "      <td>93</td>\n",
              "      <td>993947</td>\n",
              "    </tr>\n",
              "    <tr>\n",
              "      <th>92</th>\n",
              "      <td>94</td>\n",
              "      <td>Val-de-Marne</td>\n",
              "      <td>FR107</td>\n",
              "      <td>fr:Val-de-Marne</td>\n",
              "      <td>POLYGON ((2.41450 48.71780, 2.41320 48.71868, ...</td>\n",
              "      <td>94</td>\n",
              "      <td>821258</td>\n",
              "    </tr>\n",
              "    <tr>\n",
              "      <th>93</th>\n",
              "      <td>95</td>\n",
              "      <td>Val-d'Oise</td>\n",
              "      <td>FR108</td>\n",
              "      <td>fr:Val-d'Oise</td>\n",
              "      <td>POLYGON ((1.79674 49.07196, 1.79991 49.06425, ...</td>\n",
              "      <td>95</td>\n",
              "      <td>687871</td>\n",
              "    </tr>\n",
              "  </tbody>\n",
              "</table>\n",
              "<p>94 rows × 7 columns</p>\n",
              "</div>"
            ],
            "text/plain": [
              "   code_insee                      nom  ... dpt   nombre\n",
              "0          01                      Ain  ...  01   440132\n",
              "1          02                    Aisne  ...  02   845825\n",
              "2          03                   Allier  ...  03   500158\n",
              "3          04  Alpes-de-Haute-Provence  ...  04   106020\n",
              "4          05             Hautes-Alpes  ...  05   126691\n",
              "..        ...                      ...  ...  ..      ...\n",
              "89         91                  Essonne  ...  91   582907\n",
              "90         92           Hauts-de-Seine  ...  92  1174101\n",
              "91         93        Seine-Saint-Denis  ...  93   993947\n",
              "92         94             Val-de-Marne  ...  94   821258\n",
              "93         95               Val-d'Oise  ...  95   687871\n",
              "\n",
              "[94 rows x 7 columns]"
            ]
          },
          "metadata": {
            "tags": []
          },
          "execution_count": 21
        }
      ]
    },
    {
      "cell_type": "code",
      "metadata": {
        "id": "PxkCpVAZ-VEV",
        "outputId": "01c500cb-c253-40df-950e-0c145ef13d00",
        "colab": {
          "base_uri": "https://localhost:8080/",
          "height": 402
        }
      },
      "source": [
        "import matplotlib.pyplot as plt\n",
        "fig, ax = plt.subplots(1, figsize=(8, 6))\n",
        "\n",
        "merged.plot(column=\"nombre\",   ax=ax, linewidth=0.3,edgecolor=\"0.8\",legend=True,legend_kwds\n",
        "            ={\"label\": \"Total Birth by Departement\"})\n"
      ],
      "execution_count": 22,
      "outputs": [
        {
          "output_type": "execute_result",
          "data": {
            "text/plain": [
              "<matplotlib.axes._subplots.AxesSubplot at 0x7f2d7bb93cf8>"
            ]
          },
          "metadata": {
            "tags": []
          },
          "execution_count": 22
        },
        {
          "output_type": "display_data",
          "data": {
            "image/png": "[encoded data removed]",
            "text/plain": [
              "<Figure size 576x432 with 2 Axes>"
            ]
          },
          "metadata": {
            "tags": [],
            "needs_background": "light"
          }
        }
      ]
    },
    {
      "cell_type": "code",
      "metadata": {
        "id": "YD_pIkg4-732",
        "outputId": "e8014e81-d79d-4c3a-b848-77ce7123b80d",
        "colab": {
          "base_uri": "https://localhost:8080/",
          "height": 385
        }
      },
      "source": [
        "fig, ax = plt.subplots(1, figsize=(8, 6))\n",
        "plt.axis([1.5,3,48.5,49.25])\n",
        "\n",
        "merged.plot(column=\"nombre\", ax=ax , linewidth=0.3, edgecolor=\"0.5\", legend=True, legend_kwds\n",
        "            ={\"label\": \"total birth by departement\"})\n"
      ],
      "execution_count": 23,
      "outputs": [
        {
          "output_type": "execute_result",
          "data": {
            "text/plain": [
              "<matplotlib.axes._subplots.AxesSubplot at 0x7f2d7bb93080>"
            ]
          },
          "metadata": {
            "tags": []
          },
          "execution_count": 23
        },
        {
          "output_type": "display_data",
          "data": {
            "image/png": "[encoded data removed]",
            "text/plain": [
              "<Figure size 576x432 with 2 Axes>"
            ]
          },
          "metadata": {
            "tags": [],
            "needs_background": "light"
          }
        }
      ]
    },
    {
      "cell_type": "code",
      "metadata": {
        "id": "SScVB3HS_bwb"
      },
      "source": [
        "# POUR ALLER PLUS LOIN : https://geopandas.org/mapping.html\n"
      ],
      "execution_count": 24,
      "outputs": []
    },
    {
      "cell_type": "code",
      "metadata": {
        "id": "CitnaaMQ_1n3"
      },
      "source": [
        ""
      ],
      "execution_count": 24,
      "outputs": []
    },
    {
      "cell_type": "markdown",
      "metadata": {
        "id": "WE9fVbfNAKA_"
      },
      "source": [
        "3. EXERCICES :\n",
        "Display a choropleth map with Boys/girls total births disparity\n",
        "\n",
        "The same but weighted by total dpt population\n",
        "\n",
        "Display a choropleth map with number of girls named Emma born in 2018\n",
        "\n",
        "The same but weighted by total dpt population ( for instance nb of Emma births per thousand of population in the dpt )\n",
        "\n",
        "to do this you must find a file with 2018 population for every dpt. the file must contain a department column with the same data as the prenoms dpt column...\n",
        "\n",
        "SUPERBONUS\n",
        "\n",
        "choropleth map for the most innovant departements , population weighted what is innovation ?\n",
        "\n",
        "choropleth map for the most trendsetting departements , population weighted what is trendsetting ? we could detect firstname that appear (or come again..) in one or a few departments only, and then grows in other departments.\n"
      ]
    },
    {
      "cell_type": "code",
      "metadata": {
        "id": "jhzSJjpuILQM",
        "outputId": "c86f0e2a-e4e0-416a-82d9-fd7c6c89a6fa",
        "colab": {
          "base_uri": "https://localhost:8080/"
        }
      },
      "source": [
        "#Question 1\n",
        "dpt_sexe=prenoms.groupby([\"dpt\",\"sexe\"]).nombre.sum()\n",
        "#dpt_sexe=dpt_sexe.reset_index()\n",
        "dpt_sexe"
      ],
      "execution_count": 152,
      "outputs": [
        {
          "output_type": "execute_result",
          "data": {
            "text/plain": [
              "dpt  sexe\n",
              "01   1        223592\n",
              "     2        216540\n",
              "02   1        430054\n",
              "     2        415771\n",
              "03   1        254648\n",
              "              ...   \n",
              "973  2         79971\n",
              "974  1        617721\n",
              "     2        583845\n",
              "XX   1       3779609\n",
              "     2       4685897\n",
              "Name: nombre, Length: 200, dtype: int64"
            ]
          },
          "metadata": {
            "tags": []
          },
          "execution_count": 152
        }
      ]
    },
    {
      "cell_type": "code",
      "metadata": {
        "id": "GRe3Yu1oMQQB",
        "outputId": "1ef6c4f4-5e40-4463-a395-7e52e5863941",
        "colab": {
          "base_uri": "https://localhost:8080/",
          "height": 431
        }
      },
      "source": [
        "dpt_sexe=dpt_sexe.unstack()\n",
        "dpt_sexe"
      ],
      "execution_count": 153,
      "outputs": [
        {
          "output_type": "execute_result",
          "data": {
            "text/html": [
              "<div>\n",
              "<style scoped>\n",
              "    .dataframe tbody tr th:only-of-type {\n",
              "        vertical-align: middle;\n",
              "    }\n",
              "\n",
              "    .dataframe tbody tr th {\n",
              "        vertical-align: top;\n",
              "    }\n",
              "\n",
              "    .dataframe thead th {\n",
              "        text-align: right;\n",
              "    }\n",
              "</style>\n",
              "<table border=\"1\" class=\"dataframe\">\n",
              "  <thead>\n",
              "    <tr style=\"text-align: right;\">\n",
              "      <th>sexe</th>\n",
              "      <th>1</th>\n",
              "      <th>2</th>\n",
              "    </tr>\n",
              "    <tr>\n",
              "      <th>dpt</th>\n",
              "      <th></th>\n",
              "      <th></th>\n",
              "    </tr>\n",
              "  </thead>\n",
              "  <tbody>\n",
              "    <tr>\n",
              "      <th>01</th>\n",
              "      <td>223592</td>\n",
              "      <td>216540</td>\n",
              "    </tr>\n",
              "    <tr>\n",
              "      <th>02</th>\n",
              "      <td>430054</td>\n",
              "      <td>415771</td>\n",
              "    </tr>\n",
              "    <tr>\n",
              "      <th>03</th>\n",
              "      <td>254648</td>\n",
              "      <td>245510</td>\n",
              "    </tr>\n",
              "    <tr>\n",
              "      <th>04</th>\n",
              "      <td>55387</td>\n",
              "      <td>50633</td>\n",
              "    </tr>\n",
              "    <tr>\n",
              "      <th>05</th>\n",
              "      <td>65511</td>\n",
              "      <td>61180</td>\n",
              "    </tr>\n",
              "    <tr>\n",
              "      <th>...</th>\n",
              "      <td>...</td>\n",
              "      <td>...</td>\n",
              "    </tr>\n",
              "    <tr>\n",
              "      <th>971</th>\n",
              "      <td>339474</td>\n",
              "      <td>303637</td>\n",
              "    </tr>\n",
              "    <tr>\n",
              "      <th>972</th>\n",
              "      <td>334396</td>\n",
              "      <td>305431</td>\n",
              "    </tr>\n",
              "    <tr>\n",
              "      <th>973</th>\n",
              "      <td>94663</td>\n",
              "      <td>79971</td>\n",
              "    </tr>\n",
              "    <tr>\n",
              "      <th>974</th>\n",
              "      <td>617721</td>\n",
              "      <td>583845</td>\n",
              "    </tr>\n",
              "    <tr>\n",
              "      <th>XX</th>\n",
              "      <td>3779609</td>\n",
              "      <td>4685897</td>\n",
              "    </tr>\n",
              "  </tbody>\n",
              "</table>\n",
              "<p>100 rows × 2 columns</p>\n",
              "</div>"
            ],
            "text/plain": [
              "sexe        1        2\n",
              "dpt                   \n",
              "01     223592   216540\n",
              "02     430054   415771\n",
              "03     254648   245510\n",
              "04      55387    50633\n",
              "05      65511    61180\n",
              "..        ...      ...\n",
              "971    339474   303637\n",
              "972    334396   305431\n",
              "973     94663    79971\n",
              "974    617721   583845\n",
              "XX    3779609  4685897\n",
              "\n",
              "[100 rows x 2 columns]"
            ]
          },
          "metadata": {
            "tags": []
          },
          "execution_count": 153
        }
      ]
    },
    {
      "cell_type": "code",
      "metadata": {
        "id": "usEHY__iMzQp",
        "outputId": "7c403958-08d3-4aec-c3a6-e0bd862bb5ad",
        "colab": {
          "base_uri": "https://localhost:8080/"
        }
      },
      "source": [
        "dpt_sexe.columns"
      ],
      "execution_count": 154,
      "outputs": [
        {
          "output_type": "execute_result",
          "data": {
            "text/plain": [
              "Int64Index([1, 2], dtype='int64', name='sexe')"
            ]
          },
          "metadata": {
            "tags": []
          },
          "execution_count": 154
        }
      ]
    },
    {
      "cell_type": "code",
      "metadata": {
        "id": "Q1IRioZvLqSg",
        "outputId": "7c5cbc47-574e-431c-cdd8-c933fc0c37f8",
        "colab": {
          "base_uri": "https://localhost:8080/",
          "height": 431
        }
      },
      "source": [
        "dpt_sexe[\"disparite\"]=dpt_sexe[1]/(dpt_sexe[1]+dpt_sexe[2])\n",
        "dpt_sexe"
      ],
      "execution_count": 155,
      "outputs": [
        {
          "output_type": "execute_result",
          "data": {
            "text/html": [
              "<div>\n",
              "<style scoped>\n",
              "    .dataframe tbody tr th:only-of-type {\n",
              "        vertical-align: middle;\n",
              "    }\n",
              "\n",
              "    .dataframe tbody tr th {\n",
              "        vertical-align: top;\n",
              "    }\n",
              "\n",
              "    .dataframe thead th {\n",
              "        text-align: right;\n",
              "    }\n",
              "</style>\n",
              "<table border=\"1\" class=\"dataframe\">\n",
              "  <thead>\n",
              "    <tr style=\"text-align: right;\">\n",
              "      <th>sexe</th>\n",
              "      <th>1</th>\n",
              "      <th>2</th>\n",
              "      <th>disparite</th>\n",
              "    </tr>\n",
              "    <tr>\n",
              "      <th>dpt</th>\n",
              "      <th></th>\n",
              "      <th></th>\n",
              "      <th></th>\n",
              "    </tr>\n",
              "  </thead>\n",
              "  <tbody>\n",
              "    <tr>\n",
              "      <th>01</th>\n",
              "      <td>223592</td>\n",
              "      <td>216540</td>\n",
              "      <td>0.508011</td>\n",
              "    </tr>\n",
              "    <tr>\n",
              "      <th>02</th>\n",
              "      <td>430054</td>\n",
              "      <td>415771</td>\n",
              "      <td>0.508443</td>\n",
              "    </tr>\n",
              "    <tr>\n",
              "      <th>03</th>\n",
              "      <td>254648</td>\n",
              "      <td>245510</td>\n",
              "      <td>0.509135</td>\n",
              "    </tr>\n",
              "    <tr>\n",
              "      <th>04</th>\n",
              "      <td>55387</td>\n",
              "      <td>50633</td>\n",
              "      <td>0.522420</td>\n",
              "    </tr>\n",
              "    <tr>\n",
              "      <th>05</th>\n",
              "      <td>65511</td>\n",
              "      <td>61180</td>\n",
              "      <td>0.517093</td>\n",
              "    </tr>\n",
              "    <tr>\n",
              "      <th>...</th>\n",
              "      <td>...</td>\n",
              "      <td>...</td>\n",
              "      <td>...</td>\n",
              "    </tr>\n",
              "    <tr>\n",
              "      <th>971</th>\n",
              "      <td>339474</td>\n",
              "      <td>303637</td>\n",
              "      <td>0.527862</td>\n",
              "    </tr>\n",
              "    <tr>\n",
              "      <th>972</th>\n",
              "      <td>334396</td>\n",
              "      <td>305431</td>\n",
              "      <td>0.522635</td>\n",
              "    </tr>\n",
              "    <tr>\n",
              "      <th>973</th>\n",
              "      <td>94663</td>\n",
              "      <td>79971</td>\n",
              "      <td>0.542065</td>\n",
              "    </tr>\n",
              "    <tr>\n",
              "      <th>974</th>\n",
              "      <td>617721</td>\n",
              "      <td>583845</td>\n",
              "      <td>0.514097</td>\n",
              "    </tr>\n",
              "    <tr>\n",
              "      <th>XX</th>\n",
              "      <td>3779609</td>\n",
              "      <td>4685897</td>\n",
              "      <td>0.446472</td>\n",
              "    </tr>\n",
              "  </tbody>\n",
              "</table>\n",
              "<p>100 rows × 3 columns</p>\n",
              "</div>"
            ],
            "text/plain": [
              "sexe        1        2  disparite\n",
              "dpt                              \n",
              "01     223592   216540   0.508011\n",
              "02     430054   415771   0.508443\n",
              "03     254648   245510   0.509135\n",
              "04      55387    50633   0.522420\n",
              "05      65511    61180   0.517093\n",
              "..        ...      ...        ...\n",
              "971    339474   303637   0.527862\n",
              "972    334396   305431   0.522635\n",
              "973     94663    79971   0.542065\n",
              "974    617721   583845   0.514097\n",
              "XX    3779609  4685897   0.446472\n",
              "\n",
              "[100 rows x 3 columns]"
            ]
          },
          "metadata": {
            "tags": []
          },
          "execution_count": 155
        }
      ]
    },
    {
      "cell_type": "code",
      "metadata": {
        "id": "2tgpGJToCSoV",
        "outputId": "a5959b32-9a0a-4a4e-8c20-794c6381ce6d",
        "colab": {
          "base_uri": "https://localhost:8080/",
          "height": 402
        }
      },
      "source": [
        "dpt_sexe[\"code_insee\"]=dpt_sexe.index\n",
        "merged2=map_df.merge(dpt_sexe, on='code_insee')\n",
        "merged2.head()\n",
        "merged2\n"
      ],
      "execution_count": 156,
      "outputs": [
        {
          "output_type": "execute_result",
          "data": {
            "text/html": [
              "<div>\n",
              "<style scoped>\n",
              "    .dataframe tbody tr th:only-of-type {\n",
              "        vertical-align: middle;\n",
              "    }\n",
              "\n",
              "    .dataframe tbody tr th {\n",
              "        vertical-align: top;\n",
              "    }\n",
              "\n",
              "    .dataframe thead th {\n",
              "        text-align: right;\n",
              "    }\n",
              "</style>\n",
              "<table border=\"1\" class=\"dataframe\">\n",
              "  <thead>\n",
              "    <tr style=\"text-align: right;\">\n",
              "      <th></th>\n",
              "      <th>code_insee</th>\n",
              "      <th>nom</th>\n",
              "      <th>nuts3</th>\n",
              "      <th>wikipedia</th>\n",
              "      <th>geometry</th>\n",
              "      <th>1</th>\n",
              "      <th>2</th>\n",
              "      <th>disparite</th>\n",
              "    </tr>\n",
              "  </thead>\n",
              "  <tbody>\n",
              "    <tr>\n",
              "      <th>0</th>\n",
              "      <td>01</td>\n",
              "      <td>Ain</td>\n",
              "      <td>FR711</td>\n",
              "      <td>b'fr:Ain (d\\xe9partement)'</td>\n",
              "      <td>POLYGON ((5.25559 45.78459, 5.23987 45.77758, ...</td>\n",
              "      <td>223592</td>\n",
              "      <td>216540</td>\n",
              "      <td>0.508011</td>\n",
              "    </tr>\n",
              "    <tr>\n",
              "      <th>1</th>\n",
              "      <td>02</td>\n",
              "      <td>Aisne</td>\n",
              "      <td>FR221</td>\n",
              "      <td>b'fr:Aisne (d\\xe9partement)'</td>\n",
              "      <td>POLYGON ((3.48175 48.86640, 3.48647 48.85768, ...</td>\n",
              "      <td>430054</td>\n",
              "      <td>415771</td>\n",
              "      <td>0.508443</td>\n",
              "    </tr>\n",
              "    <tr>\n",
              "      <th>2</th>\n",
              "      <td>03</td>\n",
              "      <td>Allier</td>\n",
              "      <td>FR721</td>\n",
              "      <td>b'fr:Allier (d\\xe9partement)'</td>\n",
              "      <td>POLYGON ((2.38613 46.33196, 2.38407 46.33112, ...</td>\n",
              "      <td>254648</td>\n",
              "      <td>245510</td>\n",
              "      <td>0.509135</td>\n",
              "    </tr>\n",
              "    <tr>\n",
              "      <th>3</th>\n",
              "      <td>04</td>\n",
              "      <td>Alpes-de-Haute-Provence</td>\n",
              "      <td>FR821</td>\n",
              "      <td>fr:Alpes-de-Haute-Provence</td>\n",
              "      <td>POLYGON ((6.66579 43.83120, 6.67673 43.83178, ...</td>\n",
              "      <td>55387</td>\n",
              "      <td>50633</td>\n",
              "      <td>0.522420</td>\n",
              "    </tr>\n",
              "    <tr>\n",
              "      <th>4</th>\n",
              "      <td>05</td>\n",
              "      <td>Hautes-Alpes</td>\n",
              "      <td>FR822</td>\n",
              "      <td>fr:Hautes-Alpes</td>\n",
              "      <td>POLYGON ((6.24158 44.44686, 6.24411 44.44693, ...</td>\n",
              "      <td>65511</td>\n",
              "      <td>61180</td>\n",
              "      <td>0.517093</td>\n",
              "    </tr>\n",
              "    <tr>\n",
              "      <th>...</th>\n",
              "      <td>...</td>\n",
              "      <td>...</td>\n",
              "      <td>...</td>\n",
              "      <td>...</td>\n",
              "      <td>...</td>\n",
              "      <td>...</td>\n",
              "      <td>...</td>\n",
              "      <td>...</td>\n",
              "    </tr>\n",
              "    <tr>\n",
              "      <th>89</th>\n",
              "      <td>91</td>\n",
              "      <td>Essonne</td>\n",
              "      <td>FR104</td>\n",
              "      <td>b'fr:Essonne (d\\xe9partement)'</td>\n",
              "      <td>POLYGON ((2.39233 48.33593, 2.39427 48.33263, ...</td>\n",
              "      <td>303485</td>\n",
              "      <td>279422</td>\n",
              "      <td>0.520641</td>\n",
              "    </tr>\n",
              "    <tr>\n",
              "      <th>90</th>\n",
              "      <td>92</td>\n",
              "      <td>Hauts-de-Seine</td>\n",
              "      <td>FR105</td>\n",
              "      <td>fr:Hauts-de-Seine</td>\n",
              "      <td>POLYGON ((2.31993 48.77075, 2.31588 48.76670, ...</td>\n",
              "      <td>607741</td>\n",
              "      <td>566360</td>\n",
              "      <td>0.517622</td>\n",
              "    </tr>\n",
              "    <tr>\n",
              "      <th>91</th>\n",
              "      <td>93</td>\n",
              "      <td>Seine-Saint-Denis</td>\n",
              "      <td>FR106</td>\n",
              "      <td>fr:Seine-Saint-Denis</td>\n",
              "      <td>POLYGON ((2.41899 48.84939, 2.41636 48.84924, ...</td>\n",
              "      <td>515173</td>\n",
              "      <td>478774</td>\n",
              "      <td>0.518310</td>\n",
              "    </tr>\n",
              "    <tr>\n",
              "      <th>92</th>\n",
              "      <td>94</td>\n",
              "      <td>Val-de-Marne</td>\n",
              "      <td>FR107</td>\n",
              "      <td>fr:Val-de-Marne</td>\n",
              "      <td>POLYGON ((2.41450 48.71780, 2.41320 48.71868, ...</td>\n",
              "      <td>425272</td>\n",
              "      <td>395986</td>\n",
              "      <td>0.517830</td>\n",
              "    </tr>\n",
              "    <tr>\n",
              "      <th>93</th>\n",
              "      <td>95</td>\n",
              "      <td>Val-d'Oise</td>\n",
              "      <td>FR108</td>\n",
              "      <td>fr:Val-d'Oise</td>\n",
              "      <td>POLYGON ((1.79674 49.07196, 1.79991 49.06425, ...</td>\n",
              "      <td>357437</td>\n",
              "      <td>330434</td>\n",
              "      <td>0.519628</td>\n",
              "    </tr>\n",
              "  </tbody>\n",
              "</table>\n",
              "<p>94 rows × 8 columns</p>\n",
              "</div>"
            ],
            "text/plain": [
              "   code_insee                      nom  nuts3  ...       1       2  disparite\n",
              "0          01                      Ain  FR711  ...  223592  216540   0.508011\n",
              "1          02                    Aisne  FR221  ...  430054  415771   0.508443\n",
              "2          03                   Allier  FR721  ...  254648  245510   0.509135\n",
              "3          04  Alpes-de-Haute-Provence  FR821  ...   55387   50633   0.522420\n",
              "4          05             Hautes-Alpes  FR822  ...   65511   61180   0.517093\n",
              "..        ...                      ...    ...  ...     ...     ...        ...\n",
              "89         91                  Essonne  FR104  ...  303485  279422   0.520641\n",
              "90         92           Hauts-de-Seine  FR105  ...  607741  566360   0.517622\n",
              "91         93        Seine-Saint-Denis  FR106  ...  515173  478774   0.518310\n",
              "92         94             Val-de-Marne  FR107  ...  425272  395986   0.517830\n",
              "93         95               Val-d'Oise  FR108  ...  357437  330434   0.519628\n",
              "\n",
              "[94 rows x 8 columns]"
            ]
          },
          "metadata": {
            "tags": []
          },
          "execution_count": 156
        }
      ]
    },
    {
      "cell_type": "code",
      "metadata": {
        "id": "59unonp5GehF",
        "outputId": "1623a1c5-aeeb-4854-938d-3e7e24011b1c",
        "colab": {
          "base_uri": "https://localhost:8080/",
          "height": 391
        }
      },
      "source": [
        "fig, ax = plt.subplots(1, figsize=(8, 6))\n",
        "\n",
        "merged2.plot(column=\"disparite\",   ax=ax, linewidth=0.3,edgecolor=\"0.8\",legend=True,legend_kwds\n",
        "            ={\"label\": \"disparity per departements\"})"
      ],
      "execution_count": 157,
      "outputs": [
        {
          "output_type": "execute_result",
          "data": {
            "text/plain": [
              "<matplotlib.axes._subplots.AxesSubplot at 0x7f2d710a7630>"
            ]
          },
          "metadata": {
            "tags": []
          },
          "execution_count": 157
        },
        {
          "output_type": "display_data",
          "data": {
            "image/png": "[encoded data removed]",
            "text/plain": [
              "<Figure size 576x432 with 2 Axes>"
            ]
          },
          "metadata": {
            "tags": [],
            "needs_background": "light"
          }
        }
      ]
    },
    {
      "cell_type": "code",
      "metadata": {
        "id": "GsRJpjKRKQpa",
        "outputId": "2e5a6dcf-de92-4086-d24a-9946691314bc",
        "colab": {
          "base_uri": "https://localhost:8080/",
          "height": 402
        }
      },
      "source": [
        "file_name='Departements.csv'\n",
        "pop_per_dpt= pd.read_csv(file_name,sep=\";\")\n",
        "pop_per_dpt"
      ],
      "execution_count": 158,
      "outputs": [
        {
          "output_type": "execute_result",
          "data": {
            "text/html": [
              "<div>\n",
              "<style scoped>\n",
              "    .dataframe tbody tr th:only-of-type {\n",
              "        vertical-align: middle;\n",
              "    }\n",
              "\n",
              "    .dataframe tbody tr th {\n",
              "        vertical-align: top;\n",
              "    }\n",
              "\n",
              "    .dataframe thead th {\n",
              "        text-align: right;\n",
              "    }\n",
              "</style>\n",
              "<table border=\"1\" class=\"dataframe\">\n",
              "  <thead>\n",
              "    <tr style=\"text-align: right;\">\n",
              "      <th></th>\n",
              "      <th>CODDEP</th>\n",
              "      <th>DEP</th>\n",
              "      <th>NBARR</th>\n",
              "      <th>NBCAN</th>\n",
              "      <th>NBCOM</th>\n",
              "      <th>PMUN</th>\n",
              "      <th>PTOT</th>\n",
              "      <th>Unnamed: 7</th>\n",
              "    </tr>\n",
              "  </thead>\n",
              "  <tbody>\n",
              "    <tr>\n",
              "      <th>0</th>\n",
              "      <td>01</td>\n",
              "      <td>Ain</td>\n",
              "      <td>4</td>\n",
              "      <td>23.0</td>\n",
              "      <td>393</td>\n",
              "      <td>643350</td>\n",
              "      <td>659180</td>\n",
              "      <td>NaN</td>\n",
              "    </tr>\n",
              "    <tr>\n",
              "      <th>1</th>\n",
              "      <td>02</td>\n",
              "      <td>Aisne</td>\n",
              "      <td>5</td>\n",
              "      <td>21.0</td>\n",
              "      <td>800</td>\n",
              "      <td>534490</td>\n",
              "      <td>546527</td>\n",
              "      <td>NaN</td>\n",
              "    </tr>\n",
              "    <tr>\n",
              "      <th>2</th>\n",
              "      <td>03</td>\n",
              "      <td>Allier</td>\n",
              "      <td>3</td>\n",
              "      <td>19.0</td>\n",
              "      <td>317</td>\n",
              "      <td>337988</td>\n",
              "      <td>347035</td>\n",
              "      <td>NaN</td>\n",
              "    </tr>\n",
              "    <tr>\n",
              "      <th>3</th>\n",
              "      <td>04</td>\n",
              "      <td>Alpes-de-Haute-Provence</td>\n",
              "      <td>4</td>\n",
              "      <td>15.0</td>\n",
              "      <td>198</td>\n",
              "      <td>163915</td>\n",
              "      <td>168381</td>\n",
              "      <td>NaN</td>\n",
              "    </tr>\n",
              "    <tr>\n",
              "      <th>4</th>\n",
              "      <td>05</td>\n",
              "      <td>Hautes-Alpes</td>\n",
              "      <td>2</td>\n",
              "      <td>15.0</td>\n",
              "      <td>162</td>\n",
              "      <td>141284</td>\n",
              "      <td>145883</td>\n",
              "      <td>NaN</td>\n",
              "    </tr>\n",
              "    <tr>\n",
              "      <th>...</th>\n",
              "      <td>...</td>\n",
              "      <td>...</td>\n",
              "      <td>...</td>\n",
              "      <td>...</td>\n",
              "      <td>...</td>\n",
              "      <td>...</td>\n",
              "      <td>...</td>\n",
              "      <td>...</td>\n",
              "    </tr>\n",
              "    <tr>\n",
              "      <th>95</th>\n",
              "      <td>95</td>\n",
              "      <td>Val-d'Oise</td>\n",
              "      <td>3</td>\n",
              "      <td>21.0</td>\n",
              "      <td>184</td>\n",
              "      <td>1228618</td>\n",
              "      <td>1239262</td>\n",
              "      <td>NaN</td>\n",
              "    </tr>\n",
              "    <tr>\n",
              "      <th>96</th>\n",
              "      <td>971</td>\n",
              "      <td>Guadeloupe</td>\n",
              "      <td>2</td>\n",
              "      <td>21.0</td>\n",
              "      <td>32</td>\n",
              "      <td>390253</td>\n",
              "      <td>396153</td>\n",
              "      <td>NaN</td>\n",
              "    </tr>\n",
              "    <tr>\n",
              "      <th>97</th>\n",
              "      <td>972</td>\n",
              "      <td>Martinique</td>\n",
              "      <td>4</td>\n",
              "      <td>NaN</td>\n",
              "      <td>34</td>\n",
              "      <td>372594</td>\n",
              "      <td>377711</td>\n",
              "      <td>NaN</td>\n",
              "    </tr>\n",
              "    <tr>\n",
              "      <th>98</th>\n",
              "      <td>973</td>\n",
              "      <td>Guyane</td>\n",
              "      <td>2</td>\n",
              "      <td>NaN</td>\n",
              "      <td>22</td>\n",
              "      <td>268700</td>\n",
              "      <td>271124</td>\n",
              "      <td>NaN</td>\n",
              "    </tr>\n",
              "    <tr>\n",
              "      <th>99</th>\n",
              "      <td>974</td>\n",
              "      <td>La Réunion</td>\n",
              "      <td>4</td>\n",
              "      <td>25.0</td>\n",
              "      <td>24</td>\n",
              "      <td>853659</td>\n",
              "      <td>863063</td>\n",
              "      <td>NaN</td>\n",
              "    </tr>\n",
              "  </tbody>\n",
              "</table>\n",
              "<p>100 rows × 8 columns</p>\n",
              "</div>"
            ],
            "text/plain": [
              "   CODDEP                      DEP  NBARR  ...     PMUN     PTOT  Unnamed: 7\n",
              "0      01                      Ain      4  ...   643350   659180         NaN\n",
              "1      02                    Aisne      5  ...   534490   546527         NaN\n",
              "2      03                   Allier      3  ...   337988   347035         NaN\n",
              "3      04  Alpes-de-Haute-Provence      4  ...   163915   168381         NaN\n",
              "4      05             Hautes-Alpes      2  ...   141284   145883         NaN\n",
              "..    ...                      ...    ...  ...      ...      ...         ...\n",
              "95     95               Val-d'Oise      3  ...  1228618  1239262         NaN\n",
              "96    971               Guadeloupe      2  ...   390253   396153         NaN\n",
              "97    972               Martinique      4  ...   372594   377711         NaN\n",
              "98    973                   Guyane      2  ...   268700   271124         NaN\n",
              "99    974               La Réunion      4  ...   853659   863063         NaN\n",
              "\n",
              "[100 rows x 8 columns]"
            ]
          },
          "metadata": {
            "tags": []
          },
          "execution_count": 158
        }
      ]
    },
    {
      "cell_type": "code",
      "metadata": {
        "id": "cBw1IBqc_97B",
        "outputId": "db2b9ab6-2ed5-4de7-d11f-a9055b7b0db2",
        "colab": {
          "base_uri": "https://localhost:8080/"
        }
      },
      "source": [
        "#Question 2\n",
        "pop_sexe=prenoms.groupby([\"dpt\",\"sexe\"]).nombre.sum()\n",
        "pop_sexe\n"
      ],
      "execution_count": 159,
      "outputs": [
        {
          "output_type": "execute_result",
          "data": {
            "text/plain": [
              "dpt  sexe\n",
              "01   1        223592\n",
              "     2        216540\n",
              "02   1        430054\n",
              "     2        415771\n",
              "03   1        254648\n",
              "              ...   \n",
              "973  2         79971\n",
              "974  1        617721\n",
              "     2        583845\n",
              "XX   1       3779609\n",
              "     2       4685897\n",
              "Name: nombre, Length: 200, dtype: int64"
            ]
          },
          "metadata": {
            "tags": []
          },
          "execution_count": 159
        }
      ]
    },
    {
      "cell_type": "code",
      "metadata": {
        "id": "CLyiS7NgUCyB",
        "outputId": "46677b4d-7303-49e4-cfef-db2ab486445e",
        "colab": {
          "base_uri": "https://localhost:8080/",
          "height": 431
        }
      },
      "source": [
        "pop_sexe=pop_sexe.unstack()\n",
        "pop_sexe"
      ],
      "execution_count": 160,
      "outputs": [
        {
          "output_type": "execute_result",
          "data": {
            "text/html": [
              "<div>\n",
              "<style scoped>\n",
              "    .dataframe tbody tr th:only-of-type {\n",
              "        vertical-align: middle;\n",
              "    }\n",
              "\n",
              "    .dataframe tbody tr th {\n",
              "        vertical-align: top;\n",
              "    }\n",
              "\n",
              "    .dataframe thead th {\n",
              "        text-align: right;\n",
              "    }\n",
              "</style>\n",
              "<table border=\"1\" class=\"dataframe\">\n",
              "  <thead>\n",
              "    <tr style=\"text-align: right;\">\n",
              "      <th>sexe</th>\n",
              "      <th>1</th>\n",
              "      <th>2</th>\n",
              "    </tr>\n",
              "    <tr>\n",
              "      <th>dpt</th>\n",
              "      <th></th>\n",
              "      <th></th>\n",
              "    </tr>\n",
              "  </thead>\n",
              "  <tbody>\n",
              "    <tr>\n",
              "      <th>01</th>\n",
              "      <td>223592</td>\n",
              "      <td>216540</td>\n",
              "    </tr>\n",
              "    <tr>\n",
              "      <th>02</th>\n",
              "      <td>430054</td>\n",
              "      <td>415771</td>\n",
              "    </tr>\n",
              "    <tr>\n",
              "      <th>03</th>\n",
              "      <td>254648</td>\n",
              "      <td>245510</td>\n",
              "    </tr>\n",
              "    <tr>\n",
              "      <th>04</th>\n",
              "      <td>55387</td>\n",
              "      <td>50633</td>\n",
              "    </tr>\n",
              "    <tr>\n",
              "      <th>05</th>\n",
              "      <td>65511</td>\n",
              "      <td>61180</td>\n",
              "    </tr>\n",
              "    <tr>\n",
              "      <th>...</th>\n",
              "      <td>...</td>\n",
              "      <td>...</td>\n",
              "    </tr>\n",
              "    <tr>\n",
              "      <th>971</th>\n",
              "      <td>339474</td>\n",
              "      <td>303637</td>\n",
              "    </tr>\n",
              "    <tr>\n",
              "      <th>972</th>\n",
              "      <td>334396</td>\n",
              "      <td>305431</td>\n",
              "    </tr>\n",
              "    <tr>\n",
              "      <th>973</th>\n",
              "      <td>94663</td>\n",
              "      <td>79971</td>\n",
              "    </tr>\n",
              "    <tr>\n",
              "      <th>974</th>\n",
              "      <td>617721</td>\n",
              "      <td>583845</td>\n",
              "    </tr>\n",
              "    <tr>\n",
              "      <th>XX</th>\n",
              "      <td>3779609</td>\n",
              "      <td>4685897</td>\n",
              "    </tr>\n",
              "  </tbody>\n",
              "</table>\n",
              "<p>100 rows × 2 columns</p>\n",
              "</div>"
            ],
            "text/plain": [
              "sexe        1        2\n",
              "dpt                   \n",
              "01     223592   216540\n",
              "02     430054   415771\n",
              "03     254648   245510\n",
              "04      55387    50633\n",
              "05      65511    61180\n",
              "..        ...      ...\n",
              "971    339474   303637\n",
              "972    334396   305431\n",
              "973     94663    79971\n",
              "974    617721   583845\n",
              "XX    3779609  4685897\n",
              "\n",
              "[100 rows x 2 columns]"
            ]
          },
          "metadata": {
            "tags": []
          },
          "execution_count": 160
        }
      ]
    },
    {
      "cell_type": "code",
      "metadata": {
        "id": "vihqt0yDBsO0",
        "outputId": "401b7931-15e9-4dd9-dd09-fac4808e2603",
        "colab": {
          "base_uri": "https://localhost:8080/",
          "height": 195
        }
      },
      "source": [
        "Ptot=pd.DataFrame(pop_per_dpt['PTOT'])\n",
        "pop_sexe[\"code_insee\"]=pop_sexe.index\n",
        "Ptot[\"code_insee\"]=pop_per_dpt.CODDEP\n",
        "Ptot\n",
        "merged3=Ptot.merge(pop_sexe, on='code_insee')\n",
        "merged3.head()"
      ],
      "execution_count": 162,
      "outputs": [
        {
          "output_type": "execute_result",
          "data": {
            "text/html": [
              "<div>\n",
              "<style scoped>\n",
              "    .dataframe tbody tr th:only-of-type {\n",
              "        vertical-align: middle;\n",
              "    }\n",
              "\n",
              "    .dataframe tbody tr th {\n",
              "        vertical-align: top;\n",
              "    }\n",
              "\n",
              "    .dataframe thead th {\n",
              "        text-align: right;\n",
              "    }\n",
              "</style>\n",
              "<table border=\"1\" class=\"dataframe\">\n",
              "  <thead>\n",
              "    <tr style=\"text-align: right;\">\n",
              "      <th></th>\n",
              "      <th>PTOT</th>\n",
              "      <th>code_insee</th>\n",
              "      <th>1</th>\n",
              "      <th>2</th>\n",
              "    </tr>\n",
              "  </thead>\n",
              "  <tbody>\n",
              "    <tr>\n",
              "      <th>0</th>\n",
              "      <td>659180</td>\n",
              "      <td>01</td>\n",
              "      <td>223592</td>\n",
              "      <td>216540</td>\n",
              "    </tr>\n",
              "    <tr>\n",
              "      <th>1</th>\n",
              "      <td>546527</td>\n",
              "      <td>02</td>\n",
              "      <td>430054</td>\n",
              "      <td>415771</td>\n",
              "    </tr>\n",
              "    <tr>\n",
              "      <th>2</th>\n",
              "      <td>347035</td>\n",
              "      <td>03</td>\n",
              "      <td>254648</td>\n",
              "      <td>245510</td>\n",
              "    </tr>\n",
              "    <tr>\n",
              "      <th>3</th>\n",
              "      <td>168381</td>\n",
              "      <td>04</td>\n",
              "      <td>55387</td>\n",
              "      <td>50633</td>\n",
              "    </tr>\n",
              "    <tr>\n",
              "      <th>4</th>\n",
              "      <td>145883</td>\n",
              "      <td>05</td>\n",
              "      <td>65511</td>\n",
              "      <td>61180</td>\n",
              "    </tr>\n",
              "  </tbody>\n",
              "</table>\n",
              "</div>"
            ],
            "text/plain": [
              "     PTOT code_insee       1       2\n",
              "0  659180         01  223592  216540\n",
              "1  546527         02  430054  415771\n",
              "2  347035         03  254648  245510\n",
              "3  168381         04   55387   50633\n",
              "4  145883         05   65511   61180"
            ]
          },
          "metadata": {
            "tags": []
          },
          "execution_count": 162
        }
      ]
    },
    {
      "cell_type": "code",
      "metadata": {
        "id": "7AdJlzCn91SB",
        "outputId": "f1b1c209-4e0b-4515-ea06-fb5c73951abd",
        "colab": {
          "base_uri": "https://localhost:8080/",
          "height": 402
        }
      },
      "source": [
        "merged3[\"disparite par total pop\"]=merged3[1]/merged3['PTOT']\n",
        "merged3"
      ],
      "execution_count": 163,
      "outputs": [
        {
          "output_type": "execute_result",
          "data": {
            "text/html": [
              "<div>\n",
              "<style scoped>\n",
              "    .dataframe tbody tr th:only-of-type {\n",
              "        vertical-align: middle;\n",
              "    }\n",
              "\n",
              "    .dataframe tbody tr th {\n",
              "        vertical-align: top;\n",
              "    }\n",
              "\n",
              "    .dataframe thead th {\n",
              "        text-align: right;\n",
              "    }\n",
              "</style>\n",
              "<table border=\"1\" class=\"dataframe\">\n",
              "  <thead>\n",
              "    <tr style=\"text-align: right;\">\n",
              "      <th></th>\n",
              "      <th>PTOT</th>\n",
              "      <th>code_insee</th>\n",
              "      <th>1</th>\n",
              "      <th>2</th>\n",
              "      <th>disparite par total pop</th>\n",
              "    </tr>\n",
              "  </thead>\n",
              "  <tbody>\n",
              "    <tr>\n",
              "      <th>0</th>\n",
              "      <td>659180</td>\n",
              "      <td>01</td>\n",
              "      <td>223592</td>\n",
              "      <td>216540</td>\n",
              "      <td>0.339197</td>\n",
              "    </tr>\n",
              "    <tr>\n",
              "      <th>1</th>\n",
              "      <td>546527</td>\n",
              "      <td>02</td>\n",
              "      <td>430054</td>\n",
              "      <td>415771</td>\n",
              "      <td>0.786885</td>\n",
              "    </tr>\n",
              "    <tr>\n",
              "      <th>2</th>\n",
              "      <td>347035</td>\n",
              "      <td>03</td>\n",
              "      <td>254648</td>\n",
              "      <td>245510</td>\n",
              "      <td>0.733782</td>\n",
              "    </tr>\n",
              "    <tr>\n",
              "      <th>3</th>\n",
              "      <td>168381</td>\n",
              "      <td>04</td>\n",
              "      <td>55387</td>\n",
              "      <td>50633</td>\n",
              "      <td>0.328939</td>\n",
              "    </tr>\n",
              "    <tr>\n",
              "      <th>4</th>\n",
              "      <td>145883</td>\n",
              "      <td>05</td>\n",
              "      <td>65511</td>\n",
              "      <td>61180</td>\n",
              "      <td>0.449065</td>\n",
              "    </tr>\n",
              "    <tr>\n",
              "      <th>...</th>\n",
              "      <td>...</td>\n",
              "      <td>...</td>\n",
              "      <td>...</td>\n",
              "      <td>...</td>\n",
              "      <td>...</td>\n",
              "    </tr>\n",
              "    <tr>\n",
              "      <th>93</th>\n",
              "      <td>1239262</td>\n",
              "      <td>95</td>\n",
              "      <td>357437</td>\n",
              "      <td>330434</td>\n",
              "      <td>0.288427</td>\n",
              "    </tr>\n",
              "    <tr>\n",
              "      <th>94</th>\n",
              "      <td>396153</td>\n",
              "      <td>971</td>\n",
              "      <td>339474</td>\n",
              "      <td>303637</td>\n",
              "      <td>0.856926</td>\n",
              "    </tr>\n",
              "    <tr>\n",
              "      <th>95</th>\n",
              "      <td>377711</td>\n",
              "      <td>972</td>\n",
              "      <td>334396</td>\n",
              "      <td>305431</td>\n",
              "      <td>0.885322</td>\n",
              "    </tr>\n",
              "    <tr>\n",
              "      <th>96</th>\n",
              "      <td>271124</td>\n",
              "      <td>973</td>\n",
              "      <td>94663</td>\n",
              "      <td>79971</td>\n",
              "      <td>0.349150</td>\n",
              "    </tr>\n",
              "    <tr>\n",
              "      <th>97</th>\n",
              "      <td>863063</td>\n",
              "      <td>974</td>\n",
              "      <td>617721</td>\n",
              "      <td>583845</td>\n",
              "      <td>0.715731</td>\n",
              "    </tr>\n",
              "  </tbody>\n",
              "</table>\n",
              "<p>98 rows × 5 columns</p>\n",
              "</div>"
            ],
            "text/plain": [
              "       PTOT code_insee       1       2  disparite par total pop\n",
              "0    659180         01  223592  216540                 0.339197\n",
              "1    546527         02  430054  415771                 0.786885\n",
              "2    347035         03  254648  245510                 0.733782\n",
              "3    168381         04   55387   50633                 0.328939\n",
              "4    145883         05   65511   61180                 0.449065\n",
              "..      ...        ...     ...     ...                      ...\n",
              "93  1239262         95  357437  330434                 0.288427\n",
              "94   396153        971  339474  303637                 0.856926\n",
              "95   377711        972  334396  305431                 0.885322\n",
              "96   271124        973   94663   79971                 0.349150\n",
              "97   863063        974  617721  583845                 0.715731\n",
              "\n",
              "[98 rows x 5 columns]"
            ]
          },
          "metadata": {
            "tags": []
          },
          "execution_count": 163
        }
      ]
    },
    {
      "cell_type": "code",
      "metadata": {
        "id": "jSogPKMjXwDt",
        "outputId": "a50d0fbf-3b09-47a9-86d1-fde9810ebb79",
        "colab": {
          "base_uri": "https://localhost:8080/",
          "height": 296
        }
      },
      "source": [
        "pop_sexe[\"code_insee\"]=pop_sexe.index\n",
        "merged4=map_df.merge(merged3, on='code_insee')\n",
        "merged4.head()"
      ],
      "execution_count": 164,
      "outputs": [
        {
          "output_type": "execute_result",
          "data": {
            "text/html": [
              "<div>\n",
              "<style scoped>\n",
              "    .dataframe tbody tr th:only-of-type {\n",
              "        vertical-align: middle;\n",
              "    }\n",
              "\n",
              "    .dataframe tbody tr th {\n",
              "        vertical-align: top;\n",
              "    }\n",
              "\n",
              "    .dataframe thead th {\n",
              "        text-align: right;\n",
              "    }\n",
              "</style>\n",
              "<table border=\"1\" class=\"dataframe\">\n",
              "  <thead>\n",
              "    <tr style=\"text-align: right;\">\n",
              "      <th></th>\n",
              "      <th>code_insee</th>\n",
              "      <th>nom</th>\n",
              "      <th>nuts3</th>\n",
              "      <th>wikipedia</th>\n",
              "      <th>geometry</th>\n",
              "      <th>PTOT</th>\n",
              "      <th>1</th>\n",
              "      <th>2</th>\n",
              "      <th>disparite par total pop</th>\n",
              "    </tr>\n",
              "  </thead>\n",
              "  <tbody>\n",
              "    <tr>\n",
              "      <th>0</th>\n",
              "      <td>01</td>\n",
              "      <td>Ain</td>\n",
              "      <td>FR711</td>\n",
              "      <td>b'fr:Ain (d\\xe9partement)'</td>\n",
              "      <td>POLYGON ((5.25559 45.78459, 5.23987 45.77758, ...</td>\n",
              "      <td>659180</td>\n",
              "      <td>223592</td>\n",
              "      <td>216540</td>\n",
              "      <td>0.339197</td>\n",
              "    </tr>\n",
              "    <tr>\n",
              "      <th>1</th>\n",
              "      <td>02</td>\n",
              "      <td>Aisne</td>\n",
              "      <td>FR221</td>\n",
              "      <td>b'fr:Aisne (d\\xe9partement)'</td>\n",
              "      <td>POLYGON ((3.48175 48.86640, 3.48647 48.85768, ...</td>\n",
              "      <td>546527</td>\n",
              "      <td>430054</td>\n",
              "      <td>415771</td>\n",
              "      <td>0.786885</td>\n",
              "    </tr>\n",
              "    <tr>\n",
              "      <th>2</th>\n",
              "      <td>03</td>\n",
              "      <td>Allier</td>\n",
              "      <td>FR721</td>\n",
              "      <td>b'fr:Allier (d\\xe9partement)'</td>\n",
              "      <td>POLYGON ((2.38613 46.33196, 2.38407 46.33112, ...</td>\n",
              "      <td>347035</td>\n",
              "      <td>254648</td>\n",
              "      <td>245510</td>\n",
              "      <td>0.733782</td>\n",
              "    </tr>\n",
              "    <tr>\n",
              "      <th>3</th>\n",
              "      <td>04</td>\n",
              "      <td>Alpes-de-Haute-Provence</td>\n",
              "      <td>FR821</td>\n",
              "      <td>fr:Alpes-de-Haute-Provence</td>\n",
              "      <td>POLYGON ((6.66579 43.83120, 6.67673 43.83178, ...</td>\n",
              "      <td>168381</td>\n",
              "      <td>55387</td>\n",
              "      <td>50633</td>\n",
              "      <td>0.328939</td>\n",
              "    </tr>\n",
              "    <tr>\n",
              "      <th>4</th>\n",
              "      <td>05</td>\n",
              "      <td>Hautes-Alpes</td>\n",
              "      <td>FR822</td>\n",
              "      <td>fr:Hautes-Alpes</td>\n",
              "      <td>POLYGON ((6.24158 44.44686, 6.24411 44.44693, ...</td>\n",
              "      <td>145883</td>\n",
              "      <td>65511</td>\n",
              "      <td>61180</td>\n",
              "      <td>0.449065</td>\n",
              "    </tr>\n",
              "  </tbody>\n",
              "</table>\n",
              "</div>"
            ],
            "text/plain": [
              "  code_insee                      nom  ...       2 disparite par total pop\n",
              "0         01                      Ain  ...  216540                0.339197\n",
              "1         02                    Aisne  ...  415771                0.786885\n",
              "2         03                   Allier  ...  245510                0.733782\n",
              "3         04  Alpes-de-Haute-Provence  ...   50633                0.328939\n",
              "4         05             Hautes-Alpes  ...   61180                0.449065\n",
              "\n",
              "[5 rows x 9 columns]"
            ]
          },
          "metadata": {
            "tags": []
          },
          "execution_count": 164
        }
      ]
    },
    {
      "cell_type": "code",
      "metadata": {
        "id": "NTAugJluB47W",
        "outputId": "50bb83e1-c9f3-493d-e90e-aa4297ab466b",
        "colab": {
          "base_uri": "https://localhost:8080/",
          "height": 391
        }
      },
      "source": [
        "fig, ax = plt.subplots(1, figsize=(8, 6))\n",
        "\n",
        "merged4.plot(column=\"disparite par total pop\",   ax=ax, linewidth=0.3,edgecolor=\"0.8\",legend=True,legend_kwds\n",
        "            ={\"label\": \"disparity per departements pondedartion total pop\"})"
      ],
      "execution_count": 165,
      "outputs": [
        {
          "output_type": "execute_result",
          "data": {
            "text/plain": [
              "<matplotlib.axes._subplots.AxesSubplot at 0x7f2d70f38780>"
            ]
          },
          "metadata": {
            "tags": []
          },
          "execution_count": 165
        },
        {
          "output_type": "display_data",
          "data": {
            "image/png": "[encoded data removed]",
            "text/plain": [
              "<Figure size 576x432 with 2 Axes>"
            ]
          },
          "metadata": {
            "tags": [],
            "needs_background": "light"
          }
        }
      ]
    },
    {
      "cell_type": "code",
      "metadata": {
        "id": "Jsri6WLFDAG9",
        "outputId": "f2a47035-7eb9-4ac2-8d41-7c35ad4801a2",
        "colab": {
          "base_uri": "https://localhost:8080/",
          "height": 195
        }
      },
      "source": [
        "prenoms.head()"
      ],
      "execution_count": 166,
      "outputs": [
        {
          "output_type": "execute_result",
          "data": {
            "text/html": [
              "<div>\n",
              "<style scoped>\n",
              "    .dataframe tbody tr th:only-of-type {\n",
              "        vertical-align: middle;\n",
              "    }\n",
              "\n",
              "    .dataframe tbody tr th {\n",
              "        vertical-align: top;\n",
              "    }\n",
              "\n",
              "    .dataframe thead th {\n",
              "        text-align: right;\n",
              "    }\n",
              "</style>\n",
              "<table border=\"1\" class=\"dataframe\">\n",
              "  <thead>\n",
              "    <tr style=\"text-align: right;\">\n",
              "      <th></th>\n",
              "      <th>sexe</th>\n",
              "      <th>preusuel</th>\n",
              "      <th>annais</th>\n",
              "      <th>dpt</th>\n",
              "      <th>nombre</th>\n",
              "    </tr>\n",
              "  </thead>\n",
              "  <tbody>\n",
              "    <tr>\n",
              "      <th>0</th>\n",
              "      <td>1</td>\n",
              "      <td>_PRENOMS_RARES</td>\n",
              "      <td>1900</td>\n",
              "      <td>02</td>\n",
              "      <td>7</td>\n",
              "    </tr>\n",
              "    <tr>\n",
              "      <th>1</th>\n",
              "      <td>1</td>\n",
              "      <td>_PRENOMS_RARES</td>\n",
              "      <td>1900</td>\n",
              "      <td>04</td>\n",
              "      <td>9</td>\n",
              "    </tr>\n",
              "    <tr>\n",
              "      <th>2</th>\n",
              "      <td>1</td>\n",
              "      <td>_PRENOMS_RARES</td>\n",
              "      <td>1900</td>\n",
              "      <td>05</td>\n",
              "      <td>8</td>\n",
              "    </tr>\n",
              "    <tr>\n",
              "      <th>3</th>\n",
              "      <td>1</td>\n",
              "      <td>_PRENOMS_RARES</td>\n",
              "      <td>1900</td>\n",
              "      <td>06</td>\n",
              "      <td>23</td>\n",
              "    </tr>\n",
              "    <tr>\n",
              "      <th>4</th>\n",
              "      <td>1</td>\n",
              "      <td>_PRENOMS_RARES</td>\n",
              "      <td>1900</td>\n",
              "      <td>07</td>\n",
              "      <td>9</td>\n",
              "    </tr>\n",
              "  </tbody>\n",
              "</table>\n",
              "</div>"
            ],
            "text/plain": [
              "   sexe        preusuel annais dpt  nombre\n",
              "0     1  _PRENOMS_RARES   1900  02       7\n",
              "1     1  _PRENOMS_RARES   1900  04       9\n",
              "2     1  _PRENOMS_RARES   1900  05       8\n",
              "3     1  _PRENOMS_RARES   1900  06      23\n",
              "4     1  _PRENOMS_RARES   1900  07       9"
            ]
          },
          "metadata": {
            "tags": []
          },
          "execution_count": 166
        }
      ]
    },
    {
      "cell_type": "code",
      "metadata": {
        "id": "seg5vVbUCL9M",
        "outputId": "dc758ab3-0d88-4c38-e82a-22edc8b7f602",
        "colab": {
          "base_uri": "https://localhost:8080/"
        }
      },
      "source": [
        "#Question 3\n",
        "num_emma=prenoms[prenoms.preusuel=='EMMA'][prenoms.annais=='2018'].groupby(['dpt','sexe']).nombre.sum()\n",
        "num_emma"
      ],
      "execution_count": 167,
      "outputs": [
        {
          "output_type": "stream",
          "text": [
            "/usr/local/lib/python3.6/dist-packages/ipykernel_launcher.py:2: UserWarning: Boolean Series key will be reindexed to match DataFrame index.\n",
            "  \n"
          ],
          "name": "stderr"
        },
        {
          "output_type": "execute_result",
          "data": {
            "text/plain": [
              "dpt  sexe\n",
              "01   2       37\n",
              "02   2       38\n",
              "03   2       28\n",
              "04   2        6\n",
              "05   2       10\n",
              "             ..\n",
              "95   2       79\n",
              "971  2       17\n",
              "972  2       11\n",
              "973  2       11\n",
              "974  2       43\n",
              "Name: nombre, Length: 98, dtype: int64"
            ]
          },
          "metadata": {
            "tags": []
          },
          "execution_count": 167
        }
      ]
    },
    {
      "cell_type": "code",
      "metadata": {
        "id": "-5B-0x6cE8uv",
        "outputId": "1a373f2d-5532-4f39-8e72-57005adc02d2",
        "colab": {
          "base_uri": "https://localhost:8080/",
          "height": 431
        }
      },
      "source": [
        "num_emma=num_emma.unstack()\n",
        "num_emma"
      ],
      "execution_count": 168,
      "outputs": [
        {
          "output_type": "execute_result",
          "data": {
            "text/html": [
              "<div>\n",
              "<style scoped>\n",
              "    .dataframe tbody tr th:only-of-type {\n",
              "        vertical-align: middle;\n",
              "    }\n",
              "\n",
              "    .dataframe tbody tr th {\n",
              "        vertical-align: top;\n",
              "    }\n",
              "\n",
              "    .dataframe thead th {\n",
              "        text-align: right;\n",
              "    }\n",
              "</style>\n",
              "<table border=\"1\" class=\"dataframe\">\n",
              "  <thead>\n",
              "    <tr style=\"text-align: right;\">\n",
              "      <th>sexe</th>\n",
              "      <th>2</th>\n",
              "    </tr>\n",
              "    <tr>\n",
              "      <th>dpt</th>\n",
              "      <th></th>\n",
              "    </tr>\n",
              "  </thead>\n",
              "  <tbody>\n",
              "    <tr>\n",
              "      <th>01</th>\n",
              "      <td>37</td>\n",
              "    </tr>\n",
              "    <tr>\n",
              "      <th>02</th>\n",
              "      <td>38</td>\n",
              "    </tr>\n",
              "    <tr>\n",
              "      <th>03</th>\n",
              "      <td>28</td>\n",
              "    </tr>\n",
              "    <tr>\n",
              "      <th>04</th>\n",
              "      <td>6</td>\n",
              "    </tr>\n",
              "    <tr>\n",
              "      <th>05</th>\n",
              "      <td>10</td>\n",
              "    </tr>\n",
              "    <tr>\n",
              "      <th>...</th>\n",
              "      <td>...</td>\n",
              "    </tr>\n",
              "    <tr>\n",
              "      <th>95</th>\n",
              "      <td>79</td>\n",
              "    </tr>\n",
              "    <tr>\n",
              "      <th>971</th>\n",
              "      <td>17</td>\n",
              "    </tr>\n",
              "    <tr>\n",
              "      <th>972</th>\n",
              "      <td>11</td>\n",
              "    </tr>\n",
              "    <tr>\n",
              "      <th>973</th>\n",
              "      <td>11</td>\n",
              "    </tr>\n",
              "    <tr>\n",
              "      <th>974</th>\n",
              "      <td>43</td>\n",
              "    </tr>\n",
              "  </tbody>\n",
              "</table>\n",
              "<p>98 rows × 1 columns</p>\n",
              "</div>"
            ],
            "text/plain": [
              "sexe   2\n",
              "dpt     \n",
              "01    37\n",
              "02    38\n",
              "03    28\n",
              "04     6\n",
              "05    10\n",
              "..    ..\n",
              "95    79\n",
              "971   17\n",
              "972   11\n",
              "973   11\n",
              "974   43\n",
              "\n",
              "[98 rows x 1 columns]"
            ]
          },
          "metadata": {
            "tags": []
          },
          "execution_count": 168
        }
      ]
    },
    {
      "cell_type": "code",
      "metadata": {
        "id": "O2jAROjLMCv0",
        "outputId": "27bef66c-171f-4a2d-db1f-5c1f4b5940a5",
        "colab": {
          "base_uri": "https://localhost:8080/",
          "height": 431
        }
      },
      "source": [
        "num_emma[\"nombre de emma fille en 2018\"]=num_emma[2]\n",
        "num_emma"
      ],
      "execution_count": 169,
      "outputs": [
        {
          "output_type": "execute_result",
          "data": {
            "text/html": [
              "<div>\n",
              "<style scoped>\n",
              "    .dataframe tbody tr th:only-of-type {\n",
              "        vertical-align: middle;\n",
              "    }\n",
              "\n",
              "    .dataframe tbody tr th {\n",
              "        vertical-align: top;\n",
              "    }\n",
              "\n",
              "    .dataframe thead th {\n",
              "        text-align: right;\n",
              "    }\n",
              "</style>\n",
              "<table border=\"1\" class=\"dataframe\">\n",
              "  <thead>\n",
              "    <tr style=\"text-align: right;\">\n",
              "      <th>sexe</th>\n",
              "      <th>2</th>\n",
              "      <th>nombre de emma fille en 2018</th>\n",
              "    </tr>\n",
              "    <tr>\n",
              "      <th>dpt</th>\n",
              "      <th></th>\n",
              "      <th></th>\n",
              "    </tr>\n",
              "  </thead>\n",
              "  <tbody>\n",
              "    <tr>\n",
              "      <th>01</th>\n",
              "      <td>37</td>\n",
              "      <td>37</td>\n",
              "    </tr>\n",
              "    <tr>\n",
              "      <th>02</th>\n",
              "      <td>38</td>\n",
              "      <td>38</td>\n",
              "    </tr>\n",
              "    <tr>\n",
              "      <th>03</th>\n",
              "      <td>28</td>\n",
              "      <td>28</td>\n",
              "    </tr>\n",
              "    <tr>\n",
              "      <th>04</th>\n",
              "      <td>6</td>\n",
              "      <td>6</td>\n",
              "    </tr>\n",
              "    <tr>\n",
              "      <th>05</th>\n",
              "      <td>10</td>\n",
              "      <td>10</td>\n",
              "    </tr>\n",
              "    <tr>\n",
              "      <th>...</th>\n",
              "      <td>...</td>\n",
              "      <td>...</td>\n",
              "    </tr>\n",
              "    <tr>\n",
              "      <th>95</th>\n",
              "      <td>79</td>\n",
              "      <td>79</td>\n",
              "    </tr>\n",
              "    <tr>\n",
              "      <th>971</th>\n",
              "      <td>17</td>\n",
              "      <td>17</td>\n",
              "    </tr>\n",
              "    <tr>\n",
              "      <th>972</th>\n",
              "      <td>11</td>\n",
              "      <td>11</td>\n",
              "    </tr>\n",
              "    <tr>\n",
              "      <th>973</th>\n",
              "      <td>11</td>\n",
              "      <td>11</td>\n",
              "    </tr>\n",
              "    <tr>\n",
              "      <th>974</th>\n",
              "      <td>43</td>\n",
              "      <td>43</td>\n",
              "    </tr>\n",
              "  </tbody>\n",
              "</table>\n",
              "<p>98 rows × 2 columns</p>\n",
              "</div>"
            ],
            "text/plain": [
              "sexe   2  nombre de emma fille en 2018\n",
              "dpt                                   \n",
              "01    37                            37\n",
              "02    38                            38\n",
              "03    28                            28\n",
              "04     6                             6\n",
              "05    10                            10\n",
              "..    ..                           ...\n",
              "95    79                            79\n",
              "971   17                            17\n",
              "972   11                            11\n",
              "973   11                            11\n",
              "974   43                            43\n",
              "\n",
              "[98 rows x 2 columns]"
            ]
          },
          "metadata": {
            "tags": []
          },
          "execution_count": 169
        }
      ]
    },
    {
      "cell_type": "code",
      "metadata": {
        "id": "wRNp40K6DGZm",
        "outputId": "a993d04b-f19a-437e-9ebb-67725453dce3",
        "colab": {
          "base_uri": "https://localhost:8080/",
          "height": 586
        }
      },
      "source": [
        "num_emma[\"code_insee\"]=num_emma.index\n",
        "merged5=map_df.merge(num_emma, on='code_insee')\n",
        "merged5.head()\n",
        "merged5"
      ],
      "execution_count": 170,
      "outputs": [
        {
          "output_type": "execute_result",
          "data": {
            "text/html": [
              "<div>\n",
              "<style scoped>\n",
              "    .dataframe tbody tr th:only-of-type {\n",
              "        vertical-align: middle;\n",
              "    }\n",
              "\n",
              "    .dataframe tbody tr th {\n",
              "        vertical-align: top;\n",
              "    }\n",
              "\n",
              "    .dataframe thead th {\n",
              "        text-align: right;\n",
              "    }\n",
              "</style>\n",
              "<table border=\"1\" class=\"dataframe\">\n",
              "  <thead>\n",
              "    <tr style=\"text-align: right;\">\n",
              "      <th></th>\n",
              "      <th>code_insee</th>\n",
              "      <th>nom</th>\n",
              "      <th>nuts3</th>\n",
              "      <th>wikipedia</th>\n",
              "      <th>geometry</th>\n",
              "      <th>2</th>\n",
              "      <th>nombre de emma fille en 2018</th>\n",
              "    </tr>\n",
              "  </thead>\n",
              "  <tbody>\n",
              "    <tr>\n",
              "      <th>0</th>\n",
              "      <td>01</td>\n",
              "      <td>Ain</td>\n",
              "      <td>FR711</td>\n",
              "      <td>b'fr:Ain (d\\xe9partement)'</td>\n",
              "      <td>POLYGON ((5.25559 45.78459, 5.23987 45.77758, ...</td>\n",
              "      <td>37</td>\n",
              "      <td>37</td>\n",
              "    </tr>\n",
              "    <tr>\n",
              "      <th>1</th>\n",
              "      <td>02</td>\n",
              "      <td>Aisne</td>\n",
              "      <td>FR221</td>\n",
              "      <td>b'fr:Aisne (d\\xe9partement)'</td>\n",
              "      <td>POLYGON ((3.48175 48.86640, 3.48647 48.85768, ...</td>\n",
              "      <td>38</td>\n",
              "      <td>38</td>\n",
              "    </tr>\n",
              "    <tr>\n",
              "      <th>2</th>\n",
              "      <td>03</td>\n",
              "      <td>Allier</td>\n",
              "      <td>FR721</td>\n",
              "      <td>b'fr:Allier (d\\xe9partement)'</td>\n",
              "      <td>POLYGON ((2.38613 46.33196, 2.38407 46.33112, ...</td>\n",
              "      <td>28</td>\n",
              "      <td>28</td>\n",
              "    </tr>\n",
              "    <tr>\n",
              "      <th>3</th>\n",
              "      <td>04</td>\n",
              "      <td>Alpes-de-Haute-Provence</td>\n",
              "      <td>FR821</td>\n",
              "      <td>fr:Alpes-de-Haute-Provence</td>\n",
              "      <td>POLYGON ((6.66579 43.83120, 6.67673 43.83178, ...</td>\n",
              "      <td>6</td>\n",
              "      <td>6</td>\n",
              "    </tr>\n",
              "    <tr>\n",
              "      <th>4</th>\n",
              "      <td>05</td>\n",
              "      <td>Hautes-Alpes</td>\n",
              "      <td>FR822</td>\n",
              "      <td>fr:Hautes-Alpes</td>\n",
              "      <td>POLYGON ((6.24158 44.44686, 6.24411 44.44693, ...</td>\n",
              "      <td>10</td>\n",
              "      <td>10</td>\n",
              "    </tr>\n",
              "    <tr>\n",
              "      <th>...</th>\n",
              "      <td>...</td>\n",
              "      <td>...</td>\n",
              "      <td>...</td>\n",
              "      <td>...</td>\n",
              "      <td>...</td>\n",
              "      <td>...</td>\n",
              "      <td>...</td>\n",
              "    </tr>\n",
              "    <tr>\n",
              "      <th>88</th>\n",
              "      <td>91</td>\n",
              "      <td>Essonne</td>\n",
              "      <td>FR104</td>\n",
              "      <td>b'fr:Essonne (d\\xe9partement)'</td>\n",
              "      <td>POLYGON ((2.39233 48.33593, 2.39427 48.33263, ...</td>\n",
              "      <td>75</td>\n",
              "      <td>75</td>\n",
              "    </tr>\n",
              "    <tr>\n",
              "      <th>89</th>\n",
              "      <td>92</td>\n",
              "      <td>Hauts-de-Seine</td>\n",
              "      <td>FR105</td>\n",
              "      <td>fr:Hauts-de-Seine</td>\n",
              "      <td>POLYGON ((2.31993 48.77075, 2.31588 48.76670, ...</td>\n",
              "      <td>142</td>\n",
              "      <td>142</td>\n",
              "    </tr>\n",
              "    <tr>\n",
              "      <th>90</th>\n",
              "      <td>93</td>\n",
              "      <td>Seine-Saint-Denis</td>\n",
              "      <td>FR106</td>\n",
              "      <td>fr:Seine-Saint-Denis</td>\n",
              "      <td>POLYGON ((2.41899 48.84939, 2.41636 48.84924, ...</td>\n",
              "      <td>48</td>\n",
              "      <td>48</td>\n",
              "    </tr>\n",
              "    <tr>\n",
              "      <th>91</th>\n",
              "      <td>94</td>\n",
              "      <td>Val-de-Marne</td>\n",
              "      <td>FR107</td>\n",
              "      <td>fr:Val-de-Marne</td>\n",
              "      <td>POLYGON ((2.41450 48.71780, 2.41320 48.71868, ...</td>\n",
              "      <td>102</td>\n",
              "      <td>102</td>\n",
              "    </tr>\n",
              "    <tr>\n",
              "      <th>92</th>\n",
              "      <td>95</td>\n",
              "      <td>Val-d'Oise</td>\n",
              "      <td>FR108</td>\n",
              "      <td>fr:Val-d'Oise</td>\n",
              "      <td>POLYGON ((1.79674 49.07196, 1.79991 49.06425, ...</td>\n",
              "      <td>79</td>\n",
              "      <td>79</td>\n",
              "    </tr>\n",
              "  </tbody>\n",
              "</table>\n",
              "<p>93 rows × 7 columns</p>\n",
              "</div>"
            ],
            "text/plain": [
              "   code_insee                      nom  ...    2 nombre de emma fille en 2018\n",
              "0          01                      Ain  ...   37                           37\n",
              "1          02                    Aisne  ...   38                           38\n",
              "2          03                   Allier  ...   28                           28\n",
              "3          04  Alpes-de-Haute-Provence  ...    6                            6\n",
              "4          05             Hautes-Alpes  ...   10                           10\n",
              "..        ...                      ...  ...  ...                          ...\n",
              "88         91                  Essonne  ...   75                           75\n",
              "89         92           Hauts-de-Seine  ...  142                          142\n",
              "90         93        Seine-Saint-Denis  ...   48                           48\n",
              "91         94             Val-de-Marne  ...  102                          102\n",
              "92         95               Val-d'Oise  ...   79                           79\n",
              "\n",
              "[93 rows x 7 columns]"
            ]
          },
          "metadata": {
            "tags": []
          },
          "execution_count": 170
        }
      ]
    },
    {
      "cell_type": "code",
      "metadata": {
        "id": "RGoVXzD3LyQ3",
        "outputId": "d1260c0e-aace-49cc-cb1c-3c55e919a52f",
        "colab": {
          "base_uri": "https://localhost:8080/",
          "height": 391
        }
      },
      "source": [
        "fig, ax = plt.subplots(1, figsize=(8, 6))\n",
        "\n",
        "merged5.plot(column=\"nombre de emma fille en 2018\",   ax=ax, linewidth=0.3,edgecolor=\"0.8\",legend=True,legend_kwds\n",
        "            ={\"label\": \"nb de emma\"})"
      ],
      "execution_count": 171,
      "outputs": [
        {
          "output_type": "execute_result",
          "data": {
            "text/plain": [
              "<matplotlib.axes._subplots.AxesSubplot at 0x7f2d70f2ac18>"
            ]
          },
          "metadata": {
            "tags": []
          },
          "execution_count": 171
        },
        {
          "output_type": "display_data",
          "data": {
            "image/png": "[encoded data removed]",
            "text/plain": [
              "<Figure size 576x432 with 2 Axes>"
            ]
          },
          "metadata": {
            "tags": [],
            "needs_background": "light"
          }
        }
      ]
    },
    {
      "cell_type": "code",
      "metadata": {
        "id": "LXc5P0Qm4atG",
        "outputId": "15c505bd-797b-46e9-e74f-684dcb571b8e",
        "colab": {
          "base_uri": "https://localhost:8080/"
        }
      },
      "source": [
        "#Question 4\n",
        "num_emma_percent_pop=prenoms[prenoms.preusuel=='EMMA'][prenoms.annais=='2018'].groupby(['dpt','sexe']).nombre.sum()\n",
        "num_emma_percent_pop"
      ],
      "execution_count": 172,
      "outputs": [
        {
          "output_type": "stream",
          "text": [
            "/usr/local/lib/python3.6/dist-packages/ipykernel_launcher.py:2: UserWarning: Boolean Series key will be reindexed to match DataFrame index.\n",
            "  \n"
          ],
          "name": "stderr"
        },
        {
          "output_type": "execute_result",
          "data": {
            "text/plain": [
              "dpt  sexe\n",
              "01   2       37\n",
              "02   2       38\n",
              "03   2       28\n",
              "04   2        6\n",
              "05   2       10\n",
              "             ..\n",
              "95   2       79\n",
              "971  2       17\n",
              "972  2       11\n",
              "973  2       11\n",
              "974  2       43\n",
              "Name: nombre, Length: 98, dtype: int64"
            ]
          },
          "metadata": {
            "tags": []
          },
          "execution_count": 172
        }
      ]
    },
    {
      "cell_type": "code",
      "metadata": {
        "id": "7aFHqEEg6G30",
        "outputId": "e5717a85-93c2-40ab-b2f0-ac73edf7e324",
        "colab": {
          "base_uri": "https://localhost:8080/",
          "height": 431
        }
      },
      "source": [
        "num_emma_percent_pop=num_emma_percent_pop.unstack()\n",
        "num_emma_percent_pop"
      ],
      "execution_count": 173,
      "outputs": [
        {
          "output_type": "execute_result",
          "data": {
            "text/html": [
              "<div>\n",
              "<style scoped>\n",
              "    .dataframe tbody tr th:only-of-type {\n",
              "        vertical-align: middle;\n",
              "    }\n",
              "\n",
              "    .dataframe tbody tr th {\n",
              "        vertical-align: top;\n",
              "    }\n",
              "\n",
              "    .dataframe thead th {\n",
              "        text-align: right;\n",
              "    }\n",
              "</style>\n",
              "<table border=\"1\" class=\"dataframe\">\n",
              "  <thead>\n",
              "    <tr style=\"text-align: right;\">\n",
              "      <th>sexe</th>\n",
              "      <th>2</th>\n",
              "    </tr>\n",
              "    <tr>\n",
              "      <th>dpt</th>\n",
              "      <th></th>\n",
              "    </tr>\n",
              "  </thead>\n",
              "  <tbody>\n",
              "    <tr>\n",
              "      <th>01</th>\n",
              "      <td>37</td>\n",
              "    </tr>\n",
              "    <tr>\n",
              "      <th>02</th>\n",
              "      <td>38</td>\n",
              "    </tr>\n",
              "    <tr>\n",
              "      <th>03</th>\n",
              "      <td>28</td>\n",
              "    </tr>\n",
              "    <tr>\n",
              "      <th>04</th>\n",
              "      <td>6</td>\n",
              "    </tr>\n",
              "    <tr>\n",
              "      <th>05</th>\n",
              "      <td>10</td>\n",
              "    </tr>\n",
              "    <tr>\n",
              "      <th>...</th>\n",
              "      <td>...</td>\n",
              "    </tr>\n",
              "    <tr>\n",
              "      <th>95</th>\n",
              "      <td>79</td>\n",
              "    </tr>\n",
              "    <tr>\n",
              "      <th>971</th>\n",
              "      <td>17</td>\n",
              "    </tr>\n",
              "    <tr>\n",
              "      <th>972</th>\n",
              "      <td>11</td>\n",
              "    </tr>\n",
              "    <tr>\n",
              "      <th>973</th>\n",
              "      <td>11</td>\n",
              "    </tr>\n",
              "    <tr>\n",
              "      <th>974</th>\n",
              "      <td>43</td>\n",
              "    </tr>\n",
              "  </tbody>\n",
              "</table>\n",
              "<p>98 rows × 1 columns</p>\n",
              "</div>"
            ],
            "text/plain": [
              "sexe   2\n",
              "dpt     \n",
              "01    37\n",
              "02    38\n",
              "03    28\n",
              "04     6\n",
              "05    10\n",
              "..    ..\n",
              "95    79\n",
              "971   17\n",
              "972   11\n",
              "973   11\n",
              "974   43\n",
              "\n",
              "[98 rows x 1 columns]"
            ]
          },
          "metadata": {
            "tags": []
          },
          "execution_count": 173
        }
      ]
    },
    {
      "cell_type": "code",
      "metadata": {
        "id": "iH-OGba1Bkml",
        "outputId": "8a010288-6bdc-4d91-89ed-b04916bc228c",
        "colab": {
          "base_uri": "https://localhost:8080/",
          "height": 195
        }
      },
      "source": [
        "num_emma_percent_pop[\"code_insee\"]=num_emma_percent_pop.index\n",
        "num_emma_percent_pop\n",
        "merged6=Ptot.merge(num_emma_percent_pop, on='code_insee')\n",
        "merged6.head()"
      ],
      "execution_count": 174,
      "outputs": [
        {
          "output_type": "execute_result",
          "data": {
            "text/html": [
              "<div>\n",
              "<style scoped>\n",
              "    .dataframe tbody tr th:only-of-type {\n",
              "        vertical-align: middle;\n",
              "    }\n",
              "\n",
              "    .dataframe tbody tr th {\n",
              "        vertical-align: top;\n",
              "    }\n",
              "\n",
              "    .dataframe thead th {\n",
              "        text-align: right;\n",
              "    }\n",
              "</style>\n",
              "<table border=\"1\" class=\"dataframe\">\n",
              "  <thead>\n",
              "    <tr style=\"text-align: right;\">\n",
              "      <th></th>\n",
              "      <th>PTOT</th>\n",
              "      <th>code_insee</th>\n",
              "      <th>2</th>\n",
              "    </tr>\n",
              "  </thead>\n",
              "  <tbody>\n",
              "    <tr>\n",
              "      <th>0</th>\n",
              "      <td>659180</td>\n",
              "      <td>01</td>\n",
              "      <td>37</td>\n",
              "    </tr>\n",
              "    <tr>\n",
              "      <th>1</th>\n",
              "      <td>546527</td>\n",
              "      <td>02</td>\n",
              "      <td>38</td>\n",
              "    </tr>\n",
              "    <tr>\n",
              "      <th>2</th>\n",
              "      <td>347035</td>\n",
              "      <td>03</td>\n",
              "      <td>28</td>\n",
              "    </tr>\n",
              "    <tr>\n",
              "      <th>3</th>\n",
              "      <td>168381</td>\n",
              "      <td>04</td>\n",
              "      <td>6</td>\n",
              "    </tr>\n",
              "    <tr>\n",
              "      <th>4</th>\n",
              "      <td>145883</td>\n",
              "      <td>05</td>\n",
              "      <td>10</td>\n",
              "    </tr>\n",
              "  </tbody>\n",
              "</table>\n",
              "</div>"
            ],
            "text/plain": [
              "     PTOT code_insee   2\n",
              "0  659180         01  37\n",
              "1  546527         02  38\n",
              "2  347035         03  28\n",
              "3  168381         04   6\n",
              "4  145883         05  10"
            ]
          },
          "metadata": {
            "tags": []
          },
          "execution_count": 174
        }
      ]
    },
    {
      "cell_type": "code",
      "metadata": {
        "id": "Bx2XKv2wDTie",
        "outputId": "bfb12f70-9aa6-48c3-d011-f82a2c509f6f",
        "colab": {
          "base_uri": "https://localhost:8080/",
          "height": 402
        }
      },
      "source": [
        "merged6['num emma percent pop']=merged6[2]*100/merged6['PTOT']\n",
        "merged6"
      ],
      "execution_count": 175,
      "outputs": [
        {
          "output_type": "execute_result",
          "data": {
            "text/html": [
              "<div>\n",
              "<style scoped>\n",
              "    .dataframe tbody tr th:only-of-type {\n",
              "        vertical-align: middle;\n",
              "    }\n",
              "\n",
              "    .dataframe tbody tr th {\n",
              "        vertical-align: top;\n",
              "    }\n",
              "\n",
              "    .dataframe thead th {\n",
              "        text-align: right;\n",
              "    }\n",
              "</style>\n",
              "<table border=\"1\" class=\"dataframe\">\n",
              "  <thead>\n",
              "    <tr style=\"text-align: right;\">\n",
              "      <th></th>\n",
              "      <th>PTOT</th>\n",
              "      <th>code_insee</th>\n",
              "      <th>2</th>\n",
              "      <th>num emma percent pop</th>\n",
              "    </tr>\n",
              "  </thead>\n",
              "  <tbody>\n",
              "    <tr>\n",
              "      <th>0</th>\n",
              "      <td>659180</td>\n",
              "      <td>01</td>\n",
              "      <td>37</td>\n",
              "      <td>0.005613</td>\n",
              "    </tr>\n",
              "    <tr>\n",
              "      <th>1</th>\n",
              "      <td>546527</td>\n",
              "      <td>02</td>\n",
              "      <td>38</td>\n",
              "      <td>0.006953</td>\n",
              "    </tr>\n",
              "    <tr>\n",
              "      <th>2</th>\n",
              "      <td>347035</td>\n",
              "      <td>03</td>\n",
              "      <td>28</td>\n",
              "      <td>0.008068</td>\n",
              "    </tr>\n",
              "    <tr>\n",
              "      <th>3</th>\n",
              "      <td>168381</td>\n",
              "      <td>04</td>\n",
              "      <td>6</td>\n",
              "      <td>0.003563</td>\n",
              "    </tr>\n",
              "    <tr>\n",
              "      <th>4</th>\n",
              "      <td>145883</td>\n",
              "      <td>05</td>\n",
              "      <td>10</td>\n",
              "      <td>0.006855</td>\n",
              "    </tr>\n",
              "    <tr>\n",
              "      <th>...</th>\n",
              "      <td>...</td>\n",
              "      <td>...</td>\n",
              "      <td>...</td>\n",
              "      <td>...</td>\n",
              "    </tr>\n",
              "    <tr>\n",
              "      <th>92</th>\n",
              "      <td>1239262</td>\n",
              "      <td>95</td>\n",
              "      <td>79</td>\n",
              "      <td>0.006375</td>\n",
              "    </tr>\n",
              "    <tr>\n",
              "      <th>93</th>\n",
              "      <td>396153</td>\n",
              "      <td>971</td>\n",
              "      <td>17</td>\n",
              "      <td>0.004291</td>\n",
              "    </tr>\n",
              "    <tr>\n",
              "      <th>94</th>\n",
              "      <td>377711</td>\n",
              "      <td>972</td>\n",
              "      <td>11</td>\n",
              "      <td>0.002912</td>\n",
              "    </tr>\n",
              "    <tr>\n",
              "      <th>95</th>\n",
              "      <td>271124</td>\n",
              "      <td>973</td>\n",
              "      <td>11</td>\n",
              "      <td>0.004057</td>\n",
              "    </tr>\n",
              "    <tr>\n",
              "      <th>96</th>\n",
              "      <td>863063</td>\n",
              "      <td>974</td>\n",
              "      <td>43</td>\n",
              "      <td>0.004982</td>\n",
              "    </tr>\n",
              "  </tbody>\n",
              "</table>\n",
              "<p>97 rows × 4 columns</p>\n",
              "</div>"
            ],
            "text/plain": [
              "       PTOT code_insee   2  num emma percent pop\n",
              "0    659180         01  37              0.005613\n",
              "1    546527         02  38              0.006953\n",
              "2    347035         03  28              0.008068\n",
              "3    168381         04   6              0.003563\n",
              "4    145883         05  10              0.006855\n",
              "..      ...        ...  ..                   ...\n",
              "92  1239262         95  79              0.006375\n",
              "93   396153        971  17              0.004291\n",
              "94   377711        972  11              0.002912\n",
              "95   271124        973  11              0.004057\n",
              "96   863063        974  43              0.004982\n",
              "\n",
              "[97 rows x 4 columns]"
            ]
          },
          "metadata": {
            "tags": []
          },
          "execution_count": 175
        }
      ]
    },
    {
      "cell_type": "code",
      "metadata": {
        "id": "usOgy1VADtgt",
        "outputId": "2d8ca26b-1188-4e6e-ecaf-d7e882d0f63f",
        "colab": {
          "base_uri": "https://localhost:8080/",
          "height": 296
        }
      },
      "source": [
        "merged7=map_df.merge(merged6, on='code_insee')\n",
        "merged7.head()"
      ],
      "execution_count": 176,
      "outputs": [
        {
          "output_type": "execute_result",
          "data": {
            "text/html": [
              "<div>\n",
              "<style scoped>\n",
              "    .dataframe tbody tr th:only-of-type {\n",
              "        vertical-align: middle;\n",
              "    }\n",
              "\n",
              "    .dataframe tbody tr th {\n",
              "        vertical-align: top;\n",
              "    }\n",
              "\n",
              "    .dataframe thead th {\n",
              "        text-align: right;\n",
              "    }\n",
              "</style>\n",
              "<table border=\"1\" class=\"dataframe\">\n",
              "  <thead>\n",
              "    <tr style=\"text-align: right;\">\n",
              "      <th></th>\n",
              "      <th>code_insee</th>\n",
              "      <th>nom</th>\n",
              "      <th>nuts3</th>\n",
              "      <th>wikipedia</th>\n",
              "      <th>geometry</th>\n",
              "      <th>PTOT</th>\n",
              "      <th>2</th>\n",
              "      <th>num emma percent pop</th>\n",
              "    </tr>\n",
              "  </thead>\n",
              "  <tbody>\n",
              "    <tr>\n",
              "      <th>0</th>\n",
              "      <td>01</td>\n",
              "      <td>Ain</td>\n",
              "      <td>FR711</td>\n",
              "      <td>b'fr:Ain (d\\xe9partement)'</td>\n",
              "      <td>POLYGON ((5.25559 45.78459, 5.23987 45.77758, ...</td>\n",
              "      <td>659180</td>\n",
              "      <td>37</td>\n",
              "      <td>0.005613</td>\n",
              "    </tr>\n",
              "    <tr>\n",
              "      <th>1</th>\n",
              "      <td>02</td>\n",
              "      <td>Aisne</td>\n",
              "      <td>FR221</td>\n",
              "      <td>b'fr:Aisne (d\\xe9partement)'</td>\n",
              "      <td>POLYGON ((3.48175 48.86640, 3.48647 48.85768, ...</td>\n",
              "      <td>546527</td>\n",
              "      <td>38</td>\n",
              "      <td>0.006953</td>\n",
              "    </tr>\n",
              "    <tr>\n",
              "      <th>2</th>\n",
              "      <td>03</td>\n",
              "      <td>Allier</td>\n",
              "      <td>FR721</td>\n",
              "      <td>b'fr:Allier (d\\xe9partement)'</td>\n",
              "      <td>POLYGON ((2.38613 46.33196, 2.38407 46.33112, ...</td>\n",
              "      <td>347035</td>\n",
              "      <td>28</td>\n",
              "      <td>0.008068</td>\n",
              "    </tr>\n",
              "    <tr>\n",
              "      <th>3</th>\n",
              "      <td>04</td>\n",
              "      <td>Alpes-de-Haute-Provence</td>\n",
              "      <td>FR821</td>\n",
              "      <td>fr:Alpes-de-Haute-Provence</td>\n",
              "      <td>POLYGON ((6.66579 43.83120, 6.67673 43.83178, ...</td>\n",
              "      <td>168381</td>\n",
              "      <td>6</td>\n",
              "      <td>0.003563</td>\n",
              "    </tr>\n",
              "    <tr>\n",
              "      <th>4</th>\n",
              "      <td>05</td>\n",
              "      <td>Hautes-Alpes</td>\n",
              "      <td>FR822</td>\n",
              "      <td>fr:Hautes-Alpes</td>\n",
              "      <td>POLYGON ((6.24158 44.44686, 6.24411 44.44693, ...</td>\n",
              "      <td>145883</td>\n",
              "      <td>10</td>\n",
              "      <td>0.006855</td>\n",
              "    </tr>\n",
              "  </tbody>\n",
              "</table>\n",
              "</div>"
            ],
            "text/plain": [
              "  code_insee                      nom  nuts3  ...    PTOT   2  num emma percent pop\n",
              "0         01                      Ain  FR711  ...  659180  37              0.005613\n",
              "1         02                    Aisne  FR221  ...  546527  38              0.006953\n",
              "2         03                   Allier  FR721  ...  347035  28              0.008068\n",
              "3         04  Alpes-de-Haute-Provence  FR821  ...  168381   6              0.003563\n",
              "4         05             Hautes-Alpes  FR822  ...  145883  10              0.006855\n",
              "\n",
              "[5 rows x 8 columns]"
            ]
          },
          "metadata": {
            "tags": []
          },
          "execution_count": 176
        }
      ]
    },
    {
      "cell_type": "code",
      "metadata": {
        "id": "1hQX9WcDD16_",
        "outputId": "2cdaf718-fe7a-4c62-92ab-d339fbc7309e",
        "colab": {
          "base_uri": "https://localhost:8080/",
          "height": 391
        }
      },
      "source": [
        "fig, ax = plt.subplots(1, figsize=(8, 6))\n",
        "\n",
        "merged7.plot(column=\"num emma percent pop\",   ax=ax, linewidth=0.3,edgecolor=\"0.8\",legend=True,legend_kwds\n",
        "            ={\"label\": \"nb de emma percent pop\"})"
      ],
      "execution_count": 177,
      "outputs": [
        {
          "output_type": "execute_result",
          "data": {
            "text/plain": [
              "<matplotlib.axes._subplots.AxesSubplot at 0x7f2d712847b8>"
            ]
          },
          "metadata": {
            "tags": []
          },
          "execution_count": 177
        },
        {
          "output_type": "display_data",
          "data": {
            "image/png": "[encoded data removed]",
            "text/plain": [
              "<Figure size 576x432 with 2 Axes>"
            ]
          },
          "metadata": {
            "tags": [],
            "needs_background": "light"
          }
        }
      ]
    },
    {
      "cell_type": "code",
      "metadata": {
        "id": "5qbG0_-tFJMj"
      },
      "source": [
        ""
      ],
      "execution_count": null,
      "outputs": []
    }
  ]
}